{
  "cells": [
    {
      "cell_type": "markdown",
      "metadata": {
        "id": "view-in-github",
        "colab_type": "text"
      },
      "source": [
        "<a href=\"https://colab.research.google.com/github/vp465/INF502/blob/main/Assignment4.ipynb\" target=\"_parent\"><img src=\"https://colab.research.google.com/assets/colab-badge.svg\" alt=\"Open In Colab\"/></a>"
      ]
    },
    {
      "cell_type": "markdown",
      "source": [
        "**GROUP ASSIGNMENT:** You can solve this in pairs (2 students, no more than 2 students)\n",
        "\n",
        "**How to subm it:**\n",
        "* Follow the steps defined on this notebook\n",
        "* Submit the Python Notebook files to your GitHub repository (same used for the other assignments), keeping the filenames\n",
        "  - make sure you add your names and GitHub username in the file, so I can connect the pairs.\n",
        "  - BOTH students in your group MUST SUBMIT the solution to your own GitHub, but they will be identical files. Please make sure you include the GitHub link to the assignment for both students in the chunk below, so I can easily switch from one GitHub to the other.\n",
        "\n",
        "**Due date:** Nov 3, 2022 11:59 PM\n",
        "I will evaluate the latest commit before the deadline\n",
        "\n",
        "---\n"
      ],
      "metadata": {
        "id": "98D7_6uadZ4i"
      }
    },
    {
      "cell_type": "markdown",
      "source": [
        "**Students' names:**\n",
        "\n",
        "* Vaishnavi Sanjay Patil (GitHub: https://github.com/vp465/INF502/blob/main/Assignment4.ipynb )\n",
       
        "\n",
        "---\n"
      ],
      "metadata": {
        "id": "Tn4BTRDg6BDB"
      }
    },
    {
      "cell_type": "markdown",
      "metadata": {
        "id": "TnqwzJgQ2dP1"
      },
      "source": [
        "# Part 1 - getting and exploring data"
      ]
    },
    {
      "cell_type": "markdown",
      "metadata": {
        "id": "PZ0Z3sCr2dP2"
      },
      "source": [
        "This time we are going to pull data directly from the internet.\n",
        "Special thanks to: https://github.com/justmarkham for sharing the dataset and materials.\n",
        "\n",
        "### Step 1. Import the necessary libraries"
      ]
    },
    {
      "cell_type": "code",
      "execution_count": 33,
      "metadata": {
        "id": "5jpmO7e_2dP2"
      },
      "outputs": [],
      "source": [
        "import pandas"
      ]
    },
    {
      "cell_type": "markdown",
      "metadata": {
        "id": "vBb5WdoW2dP3"
      },
      "source": [
        "### Step 2. Import the dataset from this [address](https://raw.githubusercontent.com/justmarkham/DAT8/master/data/u.user). "
      ]
    },
    {
      "cell_type": "code",
      "execution_count": 34,
      "metadata": {
        "id": "U99ZfLs92dP3"
      },
      "outputs": [],
      "source": [
        "dataset = pandas.read_csv('https://raw.githubusercontent.com/justmarkham/DAT8/master/data/u.user', sep='|')"
      ]
    },
    {
      "cell_type": "markdown",
      "metadata": {
        "id": "novHnzUj2dP3"
      },
      "source": [
        "### Step 3. Assign the dataset to a variable called `users` and use the `user_id` as the index"
      ]
    },
    {
      "cell_type": "code",
      "execution_count": 35,
      "metadata": {
        "id": "RuVBOGQH2dP3"
      },
      "outputs": [],
      "source": [
        "dataset\n",
        "users=dataset.set_index(\"user_id\")"
      ]
    },
    {
      "cell_type": "markdown",
      "metadata": {
        "id": "pL5-lDDN2dP3"
      },
      "source": [
        "### Step 4. See the first 25 entries"
      ]
    },
    {
      "cell_type": "code",
      "execution_count": 36,
      "metadata": {
        "scrolled": true,
        "id": "ekrwF7292dP4",
        "colab": {
          "base_uri": "https://localhost:8080/",
          "height": 864
        },
        "outputId": "4a6c43a4-dbff-4d8d-c0ab-ac7ebb6cd39f"
      },
      "outputs": [
        {
          "output_type": "execute_result",
          "data": {
            "text/plain": [
              "         age gender     occupation zip_code\n",
              "user_id                                    \n",
              "1         24      M     technician    85711\n",
              "2         53      F          other    94043\n",
              "3         23      M         writer    32067\n",
              "4         24      M     technician    43537\n",
              "5         33      F          other    15213\n",
              "6         42      M      executive    98101\n",
              "7         57      M  administrator    91344\n",
              "8         36      M  administrator    05201\n",
              "9         29      M        student    01002\n",
              "10        53      M         lawyer    90703\n",
              "11        39      F          other    30329\n",
              "12        28      F          other    06405\n",
              "13        47      M       educator    29206\n",
              "14        45      M      scientist    55106\n",
              "15        49      F       educator    97301\n",
              "16        21      M  entertainment    10309\n",
              "17        30      M     programmer    06355\n",
              "18        35      F          other    37212\n",
              "19        40      M      librarian    02138\n",
              "20        42      F      homemaker    95660\n",
              "21        26      M         writer    30068\n",
              "22        25      M         writer    40206\n",
              "23        30      F         artist    48197\n",
              "24        21      F         artist    94533\n",
              "25        39      M       engineer    55107"
            ],
            "text/html": [
              "\n",
              "  <div id=\"df-9ad8191e-caa5-4da7-b25a-93d5339e7173\">\n",
              "    <div class=\"colab-df-container\">\n",
              "      <div>\n",
              "<style scoped>\n",
              "    .dataframe tbody tr th:only-of-type {\n",
              "        vertical-align: middle;\n",
              "    }\n",
              "\n",
              "    .dataframe tbody tr th {\n",
              "        vertical-align: top;\n",
              "    }\n",
              "\n",
              "    .dataframe thead th {\n",
              "        text-align: right;\n",
              "    }\n",
              "</style>\n",
              "<table border=\"1\" class=\"dataframe\">\n",
              "  <thead>\n",
              "    <tr style=\"text-align: right;\">\n",
              "      <th></th>\n",
              "      <th>age</th>\n",
              "      <th>gender</th>\n",
              "      <th>occupation</th>\n",
              "      <th>zip_code</th>\n",
              "    </tr>\n",
              "    <tr>\n",
              "      <th>user_id</th>\n",
              "      <th></th>\n",
              "      <th></th>\n",
              "      <th></th>\n",
              "      <th></th>\n",
              "    </tr>\n",
              "  </thead>\n",
              "  <tbody>\n",
              "    <tr>\n",
              "      <th>1</th>\n",
              "      <td>24</td>\n",
              "      <td>M</td>\n",
              "      <td>technician</td>\n",
              "      <td>85711</td>\n",
              "    </tr>\n",
              "    <tr>\n",
              "      <th>2</th>\n",
              "      <td>53</td>\n",
              "      <td>F</td>\n",
              "      <td>other</td>\n",
              "      <td>94043</td>\n",
              "    </tr>\n",
              "    <tr>\n",
              "      <th>3</th>\n",
              "      <td>23</td>\n",
              "      <td>M</td>\n",
              "      <td>writer</td>\n",
              "      <td>32067</td>\n",
              "    </tr>\n",
              "    <tr>\n",
              "      <th>4</th>\n",
              "      <td>24</td>\n",
              "      <td>M</td>\n",
              "      <td>technician</td>\n",
              "      <td>43537</td>\n",
              "    </tr>\n",
              "    <tr>\n",
              "      <th>5</th>\n",
              "      <td>33</td>\n",
              "      <td>F</td>\n",
              "      <td>other</td>\n",
              "      <td>15213</td>\n",
              "    </tr>\n",
              "    <tr>\n",
              "      <th>6</th>\n",
              "      <td>42</td>\n",
              "      <td>M</td>\n",
              "      <td>executive</td>\n",
              "      <td>98101</td>\n",
              "    </tr>\n",
              "    <tr>\n",
              "      <th>7</th>\n",
              "      <td>57</td>\n",
              "      <td>M</td>\n",
              "      <td>administrator</td>\n",
              "      <td>91344</td>\n",
              "    </tr>\n",
              "    <tr>\n",
              "      <th>8</th>\n",
              "      <td>36</td>\n",
              "      <td>M</td>\n",
              "      <td>administrator</td>\n",
              "      <td>05201</td>\n",
              "    </tr>\n",
              "    <tr>\n",
              "      <th>9</th>\n",
              "      <td>29</td>\n",
              "      <td>M</td>\n",
              "      <td>student</td>\n",
              "      <td>01002</td>\n",
              "    </tr>\n",
              "    <tr>\n",
              "      <th>10</th>\n",
              "      <td>53</td>\n",
              "      <td>M</td>\n",
              "      <td>lawyer</td>\n",
              "      <td>90703</td>\n",
              "    </tr>\n",
              "    <tr>\n",
              "      <th>11</th>\n",
              "      <td>39</td>\n",
              "      <td>F</td>\n",
              "      <td>other</td>\n",
              "      <td>30329</td>\n",
              "    </tr>\n",
              "    <tr>\n",
              "      <th>12</th>\n",
              "      <td>28</td>\n",
              "      <td>F</td>\n",
              "      <td>other</td>\n",
              "      <td>06405</td>\n",
              "    </tr>\n",
              "    <tr>\n",
              "      <th>13</th>\n",
              "      <td>47</td>\n",
              "      <td>M</td>\n",
              "      <td>educator</td>\n",
              "      <td>29206</td>\n",
              "    </tr>\n",
              "    <tr>\n",
              "      <th>14</th>\n",
              "      <td>45</td>\n",
              "      <td>M</td>\n",
              "      <td>scientist</td>\n",
              "      <td>55106</td>\n",
              "    </tr>\n",
              "    <tr>\n",
              "      <th>15</th>\n",
              "      <td>49</td>\n",
              "      <td>F</td>\n",
              "      <td>educator</td>\n",
              "      <td>97301</td>\n",
              "    </tr>\n",
              "    <tr>\n",
              "      <th>16</th>\n",
              "      <td>21</td>\n",
              "      <td>M</td>\n",
              "      <td>entertainment</td>\n",
              "      <td>10309</td>\n",
              "    </tr>\n",
              "    <tr>\n",
              "      <th>17</th>\n",
              "      <td>30</td>\n",
              "      <td>M</td>\n",
              "      <td>programmer</td>\n",
              "      <td>06355</td>\n",
              "    </tr>\n",
              "    <tr>\n",
              "      <th>18</th>\n",
              "      <td>35</td>\n",
              "      <td>F</td>\n",
              "      <td>other</td>\n",
              "      <td>37212</td>\n",
              "    </tr>\n",
              "    <tr>\n",
              "      <th>19</th>\n",
              "      <td>40</td>\n",
              "      <td>M</td>\n",
              "      <td>librarian</td>\n",
              "      <td>02138</td>\n",
              "    </tr>\n",
              "    <tr>\n",
              "      <th>20</th>\n",
              "      <td>42</td>\n",
              "      <td>F</td>\n",
              "      <td>homemaker</td>\n",
              "      <td>95660</td>\n",
              "    </tr>\n",
              "    <tr>\n",
              "      <th>21</th>\n",
              "      <td>26</td>\n",
              "      <td>M</td>\n",
              "      <td>writer</td>\n",
              "      <td>30068</td>\n",
              "    </tr>\n",
              "    <tr>\n",
              "      <th>22</th>\n",
              "      <td>25</td>\n",
              "      <td>M</td>\n",
              "      <td>writer</td>\n",
              "      <td>40206</td>\n",
              "    </tr>\n",
              "    <tr>\n",
              "      <th>23</th>\n",
              "      <td>30</td>\n",
              "      <td>F</td>\n",
              "      <td>artist</td>\n",
              "      <td>48197</td>\n",
              "    </tr>\n",
              "    <tr>\n",
              "      <th>24</th>\n",
              "      <td>21</td>\n",
              "      <td>F</td>\n",
              "      <td>artist</td>\n",
              "      <td>94533</td>\n",
              "    </tr>\n",
              "    <tr>\n",
              "      <th>25</th>\n",
              "      <td>39</td>\n",
              "      <td>M</td>\n",
              "      <td>engineer</td>\n",
              "      <td>55107</td>\n",
              "    </tr>\n",
              "  </tbody>\n",
              "</table>\n",
              "</div>\n",
              "      <button class=\"colab-df-convert\" onclick=\"convertToInteractive('df-9ad8191e-caa5-4da7-b25a-93d5339e7173')\"\n",
              "              title=\"Convert this dataframe to an interactive table.\"\n",
              "              style=\"display:none;\">\n",
              "        \n",
              "  <svg xmlns=\"http://www.w3.org/2000/svg\" height=\"24px\"viewBox=\"0 0 24 24\"\n",
              "       width=\"24px\">\n",
              "    <path d=\"M0 0h24v24H0V0z\" fill=\"none\"/>\n",
              "    <path d=\"M18.56 5.44l.94 2.06.94-2.06 2.06-.94-2.06-.94-.94-2.06-.94 2.06-2.06.94zm-11 1L8.5 8.5l.94-2.06 2.06-.94-2.06-.94L8.5 2.5l-.94 2.06-2.06.94zm10 10l.94 2.06.94-2.06 2.06-.94-2.06-.94-.94-2.06-.94 2.06-2.06.94z\"/><path d=\"M17.41 7.96l-1.37-1.37c-.4-.4-.92-.59-1.43-.59-.52 0-1.04.2-1.43.59L10.3 9.45l-7.72 7.72c-.78.78-.78 2.05 0 2.83L4 21.41c.39.39.9.59 1.41.59.51 0 1.02-.2 1.41-.59l7.78-7.78 2.81-2.81c.8-.78.8-2.07 0-2.86zM5.41 20L4 18.59l7.72-7.72 1.47 1.35L5.41 20z\"/>\n",
              "  </svg>\n",
              "      </button>\n",
              "      \n",
              "  <style>\n",
              "    .colab-df-container {\n",
              "      display:flex;\n",
              "      flex-wrap:wrap;\n",
              "      gap: 12px;\n",
              "    }\n",
              "\n",
              "    .colab-df-convert {\n",
              "      background-color: #E8F0FE;\n",
              "      border: none;\n",
              "      border-radius: 50%;\n",
              "      cursor: pointer;\n",
              "      display: none;\n",
              "      fill: #1967D2;\n",
              "      height: 32px;\n",
              "      padding: 0 0 0 0;\n",
              "      width: 32px;\n",
              "    }\n",
              "\n",
              "    .colab-df-convert:hover {\n",
              "      background-color: #E2EBFA;\n",
              "      box-shadow: 0px 1px 2px rgba(60, 64, 67, 0.3), 0px 1px 3px 1px rgba(60, 64, 67, 0.15);\n",
              "      fill: #174EA6;\n",
              "    }\n",
              "\n",
              "    [theme=dark] .colab-df-convert {\n",
              "      background-color: #3B4455;\n",
              "      fill: #D2E3FC;\n",
              "    }\n",
              "\n",
              "    [theme=dark] .colab-df-convert:hover {\n",
              "      background-color: #434B5C;\n",
              "      box-shadow: 0px 1px 3px 1px rgba(0, 0, 0, 0.15);\n",
              "      filter: drop-shadow(0px 1px 2px rgba(0, 0, 0, 0.3));\n",
              "      fill: #FFFFFF;\n",
              "    }\n",
              "  </style>\n",
              "\n",
              "      <script>\n",
              "        const buttonEl =\n",
              "          document.querySelector('#df-9ad8191e-caa5-4da7-b25a-93d5339e7173 button.colab-df-convert');\n",
              "        buttonEl.style.display =\n",
              "          google.colab.kernel.accessAllowed ? 'block' : 'none';\n",
              "\n",
              "        async function convertToInteractive(key) {\n",
              "          const element = document.querySelector('#df-9ad8191e-caa5-4da7-b25a-93d5339e7173');\n",
              "          const dataTable =\n",
              "            await google.colab.kernel.invokeFunction('convertToInteractive',\n",
              "                                                     [key], {});\n",
              "          if (!dataTable) return;\n",
              "\n",
              "          const docLinkHtml = 'Like what you see? Visit the ' +\n",
              "            '<a target=\"_blank\" href=https://colab.research.google.com/notebooks/data_table.ipynb>data table notebook</a>'\n",
              "            + ' to learn more about interactive tables.';\n",
              "          element.innerHTML = '';\n",
              "          dataTable['output_type'] = 'display_data';\n",
              "          await google.colab.output.renderOutput(dataTable, element);\n",
              "          const docLink = document.createElement('div');\n",
              "          docLink.innerHTML = docLinkHtml;\n",
              "          element.appendChild(docLink);\n",
              "        }\n",
              "      </script>\n",
              "    </div>\n",
              "  </div>\n",
              "  "
            ]
          },
          "metadata": {},
          "execution_count": 36
        }
      ],
      "source": [
        "\n",
        "users.head(25)"
      ]
    },
    {
      "cell_type": "markdown",
      "metadata": {
        "id": "1v_WZORl2dP4"
      },
      "source": [
        "### Step 5. See the last 10 entries"
      ]
    },
    {
      "cell_type": "code",
      "execution_count": 37,
      "metadata": {
        "scrolled": true,
        "id": "U4Eip3c62dP4",
        "colab": {
          "base_uri": "https://localhost:8080/",
          "height": 394
        },
        "outputId": "b68f3bcb-c5e6-402f-f6ca-b96bd8348eb5"
      },
      "outputs": [
        {
          "output_type": "execute_result",
          "data": {
            "text/plain": [
              "         age gender     occupation zip_code\n",
              "user_id                                    \n",
              "934       61      M       engineer    22902\n",
              "935       42      M         doctor    66221\n",
              "936       24      M          other    32789\n",
              "937       48      M       educator    98072\n",
              "938       38      F     technician    55038\n",
              "939       26      F        student    33319\n",
              "940       32      M  administrator    02215\n",
              "941       20      M        student    97229\n",
              "942       48      F      librarian    78209\n",
              "943       22      M        student    77841"
            ],
            "text/html": [
              "\n",
              "  <div id=\"df-9dd4c57d-903c-4b92-8686-48847b5cc568\">\n",
              "    <div class=\"colab-df-container\">\n",
              "      <div>\n",
              "<style scoped>\n",
              "    .dataframe tbody tr th:only-of-type {\n",
              "        vertical-align: middle;\n",
              "    }\n",
              "\n",
              "    .dataframe tbody tr th {\n",
              "        vertical-align: top;\n",
              "    }\n",
              "\n",
              "    .dataframe thead th {\n",
              "        text-align: right;\n",
              "    }\n",
              "</style>\n",
              "<table border=\"1\" class=\"dataframe\">\n",
              "  <thead>\n",
              "    <tr style=\"text-align: right;\">\n",
              "      <th></th>\n",
              "      <th>age</th>\n",
              "      <th>gender</th>\n",
              "      <th>occupation</th>\n",
              "      <th>zip_code</th>\n",
              "    </tr>\n",
              "    <tr>\n",
              "      <th>user_id</th>\n",
              "      <th></th>\n",
              "      <th></th>\n",
              "      <th></th>\n",
              "      <th></th>\n",
              "    </tr>\n",
              "  </thead>\n",
              "  <tbody>\n",
              "    <tr>\n",
              "      <th>934</th>\n",
              "      <td>61</td>\n",
              "      <td>M</td>\n",
              "      <td>engineer</td>\n",
              "      <td>22902</td>\n",
              "    </tr>\n",
              "    <tr>\n",
              "      <th>935</th>\n",
              "      <td>42</td>\n",
              "      <td>M</td>\n",
              "      <td>doctor</td>\n",
              "      <td>66221</td>\n",
              "    </tr>\n",
              "    <tr>\n",
              "      <th>936</th>\n",
              "      <td>24</td>\n",
              "      <td>M</td>\n",
              "      <td>other</td>\n",
              "      <td>32789</td>\n",
              "    </tr>\n",
              "    <tr>\n",
              "      <th>937</th>\n",
              "      <td>48</td>\n",
              "      <td>M</td>\n",
              "      <td>educator</td>\n",
              "      <td>98072</td>\n",
              "    </tr>\n",
              "    <tr>\n",
              "      <th>938</th>\n",
              "      <td>38</td>\n",
              "      <td>F</td>\n",
              "      <td>technician</td>\n",
              "      <td>55038</td>\n",
              "    </tr>\n",
              "    <tr>\n",
              "      <th>939</th>\n",
              "      <td>26</td>\n",
              "      <td>F</td>\n",
              "      <td>student</td>\n",
              "      <td>33319</td>\n",
              "    </tr>\n",
              "    <tr>\n",
              "      <th>940</th>\n",
              "      <td>32</td>\n",
              "      <td>M</td>\n",
              "      <td>administrator</td>\n",
              "      <td>02215</td>\n",
              "    </tr>\n",
              "    <tr>\n",
              "      <th>941</th>\n",
              "      <td>20</td>\n",
              "      <td>M</td>\n",
              "      <td>student</td>\n",
              "      <td>97229</td>\n",
              "    </tr>\n",
              "    <tr>\n",
              "      <th>942</th>\n",
              "      <td>48</td>\n",
              "      <td>F</td>\n",
              "      <td>librarian</td>\n",
              "      <td>78209</td>\n",
              "    </tr>\n",
              "    <tr>\n",
              "      <th>943</th>\n",
              "      <td>22</td>\n",
              "      <td>M</td>\n",
              "      <td>student</td>\n",
              "      <td>77841</td>\n",
              "    </tr>\n",
              "  </tbody>\n",
              "</table>\n",
              "</div>\n",
              "      <button class=\"colab-df-convert\" onclick=\"convertToInteractive('df-9dd4c57d-903c-4b92-8686-48847b5cc568')\"\n",
              "              title=\"Convert this dataframe to an interactive table.\"\n",
              "              style=\"display:none;\">\n",
              "        \n",
              "  <svg xmlns=\"http://www.w3.org/2000/svg\" height=\"24px\"viewBox=\"0 0 24 24\"\n",
              "       width=\"24px\">\n",
              "    <path d=\"M0 0h24v24H0V0z\" fill=\"none\"/>\n",
              "    <path d=\"M18.56 5.44l.94 2.06.94-2.06 2.06-.94-2.06-.94-.94-2.06-.94 2.06-2.06.94zm-11 1L8.5 8.5l.94-2.06 2.06-.94-2.06-.94L8.5 2.5l-.94 2.06-2.06.94zm10 10l.94 2.06.94-2.06 2.06-.94-2.06-.94-.94-2.06-.94 2.06-2.06.94z\"/><path d=\"M17.41 7.96l-1.37-1.37c-.4-.4-.92-.59-1.43-.59-.52 0-1.04.2-1.43.59L10.3 9.45l-7.72 7.72c-.78.78-.78 2.05 0 2.83L4 21.41c.39.39.9.59 1.41.59.51 0 1.02-.2 1.41-.59l7.78-7.78 2.81-2.81c.8-.78.8-2.07 0-2.86zM5.41 20L4 18.59l7.72-7.72 1.47 1.35L5.41 20z\"/>\n",
              "  </svg>\n",
              "      </button>\n",
              "      \n",
              "  <style>\n",
              "    .colab-df-container {\n",
              "      display:flex;\n",
              "      flex-wrap:wrap;\n",
              "      gap: 12px;\n",
              "    }\n",
              "\n",
              "    .colab-df-convert {\n",
              "      background-color: #E8F0FE;\n",
              "      border: none;\n",
              "      border-radius: 50%;\n",
              "      cursor: pointer;\n",
              "      display: none;\n",
              "      fill: #1967D2;\n",
              "      height: 32px;\n",
              "      padding: 0 0 0 0;\n",
              "      width: 32px;\n",
              "    }\n",
              "\n",
              "    .colab-df-convert:hover {\n",
              "      background-color: #E2EBFA;\n",
              "      box-shadow: 0px 1px 2px rgba(60, 64, 67, 0.3), 0px 1px 3px 1px rgba(60, 64, 67, 0.15);\n",
              "      fill: #174EA6;\n",
              "    }\n",
              "\n",
              "    [theme=dark] .colab-df-convert {\n",
              "      background-color: #3B4455;\n",
              "      fill: #D2E3FC;\n",
              "    }\n",
              "\n",
              "    [theme=dark] .colab-df-convert:hover {\n",
              "      background-color: #434B5C;\n",
              "      box-shadow: 0px 1px 3px 1px rgba(0, 0, 0, 0.15);\n",
              "      filter: drop-shadow(0px 1px 2px rgba(0, 0, 0, 0.3));\n",
              "      fill: #FFFFFF;\n",
              "    }\n",
              "  </style>\n",
              "\n",
              "      <script>\n",
              "        const buttonEl =\n",
              "          document.querySelector('#df-9dd4c57d-903c-4b92-8686-48847b5cc568 button.colab-df-convert');\n",
              "        buttonEl.style.display =\n",
              "          google.colab.kernel.accessAllowed ? 'block' : 'none';\n",
              "\n",
              "        async function convertToInteractive(key) {\n",
              "          const element = document.querySelector('#df-9dd4c57d-903c-4b92-8686-48847b5cc568');\n",
              "          const dataTable =\n",
              "            await google.colab.kernel.invokeFunction('convertToInteractive',\n",
              "                                                     [key], {});\n",
              "          if (!dataTable) return;\n",
              "\n",
              "          const docLinkHtml = 'Like what you see? Visit the ' +\n",
              "            '<a target=\"_blank\" href=https://colab.research.google.com/notebooks/data_table.ipynb>data table notebook</a>'\n",
              "            + ' to learn more about interactive tables.';\n",
              "          element.innerHTML = '';\n",
              "          dataTable['output_type'] = 'display_data';\n",
              "          await google.colab.output.renderOutput(dataTable, element);\n",
              "          const docLink = document.createElement('div');\n",
              "          docLink.innerHTML = docLinkHtml;\n",
              "          element.appendChild(docLink);\n",
              "        }\n",
              "      </script>\n",
              "    </div>\n",
              "  </div>\n",
              "  "
            ]
          },
          "metadata": {},
          "execution_count": 37
        }
      ],
      "source": [
        "\n",
        "users.tail(10)"
      ]
    },
    {
      "cell_type": "markdown",
      "metadata": {
        "id": "U9xnnRBV2dP4"
      },
      "source": [
        "### Step 6. What is the number of observations in the dataset?"
      ]
    },
    {
      "cell_type": "code",
      "execution_count": 38,
      "metadata": {
        "id": "3mJ_lzWi2dP4",
        "colab": {
          "base_uri": "https://localhost:8080/"
        },
        "outputId": "1c5ea7c1-1b25-4a59-eddc-ba3dc27bb63b"
      },
      "outputs": [
        {
          "output_type": "execute_result",
          "data": {
            "text/plain": [
              "943"
            ]
          },
          "metadata": {},
          "execution_count": 38
        }
      ],
      "source": [
        "\n",
        "users.shape[0]"
      ]
    },
    {
      "cell_type": "markdown",
      "metadata": {
        "id": "r35k7KqG2dP4"
      },
      "source": [
        "### Step 7. What is the number of columns in the dataset?"
      ]
    },
    {
      "cell_type": "code",
      "execution_count": 39,
      "metadata": {
        "id": "eS8a313_2dP5",
        "colab": {
          "base_uri": "https://localhost:8080/"
        },
        "outputId": "0a21e1a5-bbbe-4183-9c12-7c61ad7e29ab"
      },
      "outputs": [
        {
          "output_type": "execute_result",
          "data": {
            "text/plain": [
              "4"
            ]
          },
          "metadata": {},
          "execution_count": 39
        }
      ],
      "source": [
        "\n",
        "len(users.columns)"
      ]
    },
    {
      "cell_type": "markdown",
      "metadata": {
        "id": "p6LZYLqG2dP5"
      },
      "source": [
        "### Step 8. Print the name of all the columns."
      ]
    },
    {
      "cell_type": "code",
      "execution_count": 40,
      "metadata": {
        "id": "v09NmN8Q2dP5",
        "colab": {
          "base_uri": "https://localhost:8080/"
        },
        "outputId": "3e50686f-7e78-4208-d0a4-3dda5ddbe411"
      },
      "outputs": [
        {
          "output_type": "execute_result",
          "data": {
            "text/plain": [
              "['age', 'gender', 'occupation', 'zip_code']"
            ]
          },
          "metadata": {},
          "execution_count": 40
        }
      ],
      "source": [
        "\n",
        "list(users.columns)"
      ]
    },
    {
      "cell_type": "markdown",
      "metadata": {
        "id": "YMgpVu6O2dP5"
      },
      "source": [
        "### Step 9. How is the dataset indexed?"
      ]
    },
    {
      "cell_type": "code",
      "execution_count": 41,
      "metadata": {
        "id": "MDhKBX_E2dP5",
        "colab": {
          "base_uri": "https://localhost:8080/"
        },
        "outputId": "f1ab2a60-bff8-413a-b6aa-9ce57bbdcdcb"
      },
      "outputs": [
        {
          "output_type": "execute_result",
          "data": {
            "text/plain": [
              "Int64Index([  1,   2,   3,   4,   5,   6,   7,   8,   9,  10,\n",
              "            ...\n",
              "            934, 935, 936, 937, 938, 939, 940, 941, 942, 943],\n",
              "           dtype='int64', name='user_id', length=943)"
            ]
          },
          "metadata": {},
          "execution_count": 41
        }
      ],
      "source": [
        "\n",
        "users.index"
      ]
    },
    {
      "cell_type": "markdown",
      "metadata": {
        "id": "9LEr2-R92dP5"
      },
      "source": [
        "### Step 10. What is the data type of each column?"
      ]
    },
    {
      "cell_type": "code",
      "execution_count": 42,
      "metadata": {
        "id": "-fJH53Eg2dP5",
        "colab": {
          "base_uri": "https://localhost:8080/"
        },
        "outputId": "fe21ee32-bc80-47c9-d598-5d7086ca2327"
      },
      "outputs": [
        {
          "output_type": "execute_result",
          "data": {
            "text/plain": [
              "age            int64\n",
              "gender        object\n",
              "occupation    object\n",
              "zip_code      object\n",
              "dtype: object"
            ]
          },
          "metadata": {},
          "execution_count": 42
        }
      ],
      "source": [
        "\n",
        "users.dtypes"
      ]
    },
    {
      "cell_type": "markdown",
      "metadata": {
        "id": "bdVcFODT2dP5"
      },
      "source": [
        "### Step 11. Print only the occupation column"
      ]
    },
    {
      "cell_type": "code",
      "execution_count": 43,
      "metadata": {
        "id": "Jx6vFM982dP5",
        "colab": {
          "base_uri": "https://localhost:8080/",
          "height": 243
        },
        "outputId": "39dad1b5-576c-4346-e8f5-278c3ef7c49b"
      },
      "outputs": [
        {
          "output_type": "display_data",
          "data": {
            "text/plain": [
              "user_id\n",
              "1         technician\n",
              "2              other\n",
              "3             writer\n",
              "4         technician\n",
              "5              other\n",
              "           ...      \n",
              "939          student\n",
              "940    administrator\n",
              "941          student\n",
              "942        librarian\n",
              "943          student\n",
              "Name: occupation, Length: 943, dtype: object"
            ]
          },
          "metadata": {}
        }
      ],
      "source": [
        "\n",
        "display(users.occupation)"
      ]
    },
    {
      "cell_type": "markdown",
      "metadata": {
        "id": "VFOm7Dos2dP6"
      },
      "source": [
        "### Step 12. How many different occupations there are in this dataset?"
      ]
    },
    {
      "cell_type": "code",
      "execution_count": 44,
      "metadata": {
        "id": "8u0zbdPB2dP6",
        "colab": {
          "base_uri": "https://localhost:8080/"
        },
        "outputId": "4b394364-dc0b-4e58-9be0-865a909a776e"
      },
      "outputs": [
        {
          "output_type": "execute_result",
          "data": {
            "text/plain": [
              "array(['technician', 'other', 'writer', 'executive', 'administrator',\n",
              "       'student', 'lawyer', 'educator', 'scientist', 'entertainment',\n",
              "       'programmer', 'librarian', 'homemaker', 'artist', 'engineer',\n",
              "       'marketing', 'none', 'healthcare', 'retired', 'salesman', 'doctor'],\n",
              "      dtype=object)"
            ]
          },
          "metadata": {},
          "execution_count": 44
        }
      ],
      "source": [
        "\n",
        "users['occupation'].unique()"
      ]
    },
    {
      "cell_type": "markdown",
      "metadata": {
        "id": "x7XucUWS2dP6"
      },
      "source": [
        "### Step 13. What is the most frequent occupation?"
      ]
    },
    {
      "cell_type": "code",
      "execution_count": 45,
      "metadata": {
        "id": "H8MRV2pC2dP6",
        "colab": {
          "base_uri": "https://localhost:8080/"
        },
        "outputId": "0597232b-7602-4659-da77-ea331c3d3c26"
      },
      "outputs": [
        {
          "output_type": "stream",
          "name": "stdout",
          "text": [
            "student 196\n"
          ]
        }
      ],
      "source": [
        "\n",
        "m=users.groupby(['occupation'])['occupation'].count().max()\n",
        "print(users.occupation.mode()[0],m)"
      ]
    },
    {
      "cell_type": "markdown",
      "metadata": {
        "id": "LhE7O-Hw2dP6"
      },
      "source": [
        "### Step 14. Summarize the DataFrame."
      ]
    },
    {
      "cell_type": "code",
      "execution_count": 46,
      "metadata": {
        "id": "WFizamQQ2dP6",
        "colab": {
          "base_uri": "https://localhost:8080/",
          "height": 300
        },
        "outputId": "2f1b6040-a6f7-4be8-9b8f-d844183cc08b"
      },
      "outputs": [
        {
          "output_type": "execute_result",
          "data": {
            "text/plain": [
              "              age\n",
              "count  943.000000\n",
              "mean    34.051962\n",
              "std     12.192740\n",
              "min      7.000000\n",
              "25%     25.000000\n",
              "50%     31.000000\n",
              "75%     43.000000\n",
              "max     73.000000"
            ],
            "text/html": [
              "\n",
              "  <div id=\"df-677ceb11-1724-49f4-88b9-e6938765ad13\">\n",
              "    <div class=\"colab-df-container\">\n",
              "      <div>\n",
              "<style scoped>\n",
              "    .dataframe tbody tr th:only-of-type {\n",
              "        vertical-align: middle;\n",
              "    }\n",
              "\n",
              "    .dataframe tbody tr th {\n",
              "        vertical-align: top;\n",
              "    }\n",
              "\n",
              "    .dataframe thead th {\n",
              "        text-align: right;\n",
              "    }\n",
              "</style>\n",
              "<table border=\"1\" class=\"dataframe\">\n",
              "  <thead>\n",
              "    <tr style=\"text-align: right;\">\n",
              "      <th></th>\n",
              "      <th>age</th>\n",
              "    </tr>\n",
              "  </thead>\n",
              "  <tbody>\n",
              "    <tr>\n",
              "      <th>count</th>\n",
              "      <td>943.000000</td>\n",
              "    </tr>\n",
              "    <tr>\n",
              "      <th>mean</th>\n",
              "      <td>34.051962</td>\n",
              "    </tr>\n",
              "    <tr>\n",
              "      <th>std</th>\n",
              "      <td>12.192740</td>\n",
              "    </tr>\n",
              "    <tr>\n",
              "      <th>min</th>\n",
              "      <td>7.000000</td>\n",
              "    </tr>\n",
              "    <tr>\n",
              "      <th>25%</th>\n",
              "      <td>25.000000</td>\n",
              "    </tr>\n",
              "    <tr>\n",
              "      <th>50%</th>\n",
              "      <td>31.000000</td>\n",
              "    </tr>\n",
              "    <tr>\n",
              "      <th>75%</th>\n",
              "      <td>43.000000</td>\n",
              "    </tr>\n",
              "    <tr>\n",
              "      <th>max</th>\n",
              "      <td>73.000000</td>\n",
              "    </tr>\n",
              "  </tbody>\n",
              "</table>\n",
              "</div>\n",
              "      <button class=\"colab-df-convert\" onclick=\"convertToInteractive('df-677ceb11-1724-49f4-88b9-e6938765ad13')\"\n",
              "              title=\"Convert this dataframe to an interactive table.\"\n",
              "              style=\"display:none;\">\n",
              "        \n",
              "  <svg xmlns=\"http://www.w3.org/2000/svg\" height=\"24px\"viewBox=\"0 0 24 24\"\n",
              "       width=\"24px\">\n",
              "    <path d=\"M0 0h24v24H0V0z\" fill=\"none\"/>\n",
              "    <path d=\"M18.56 5.44l.94 2.06.94-2.06 2.06-.94-2.06-.94-.94-2.06-.94 2.06-2.06.94zm-11 1L8.5 8.5l.94-2.06 2.06-.94-2.06-.94L8.5 2.5l-.94 2.06-2.06.94zm10 10l.94 2.06.94-2.06 2.06-.94-2.06-.94-.94-2.06-.94 2.06-2.06.94z\"/><path d=\"M17.41 7.96l-1.37-1.37c-.4-.4-.92-.59-1.43-.59-.52 0-1.04.2-1.43.59L10.3 9.45l-7.72 7.72c-.78.78-.78 2.05 0 2.83L4 21.41c.39.39.9.59 1.41.59.51 0 1.02-.2 1.41-.59l7.78-7.78 2.81-2.81c.8-.78.8-2.07 0-2.86zM5.41 20L4 18.59l7.72-7.72 1.47 1.35L5.41 20z\"/>\n",
              "  </svg>\n",
              "      </button>\n",
              "      \n",
              "  <style>\n",
              "    .colab-df-container {\n",
              "      display:flex;\n",
              "      flex-wrap:wrap;\n",
              "      gap: 12px;\n",
              "    }\n",
              "\n",
              "    .colab-df-convert {\n",
              "      background-color: #E8F0FE;\n",
              "      border: none;\n",
              "      border-radius: 50%;\n",
              "      cursor: pointer;\n",
              "      display: none;\n",
              "      fill: #1967D2;\n",
              "      height: 32px;\n",
              "      padding: 0 0 0 0;\n",
              "      width: 32px;\n",
              "    }\n",
              "\n",
              "    .colab-df-convert:hover {\n",
              "      background-color: #E2EBFA;\n",
              "      box-shadow: 0px 1px 2px rgba(60, 64, 67, 0.3), 0px 1px 3px 1px rgba(60, 64, 67, 0.15);\n",
              "      fill: #174EA6;\n",
              "    }\n",
              "\n",
              "    [theme=dark] .colab-df-convert {\n",
              "      background-color: #3B4455;\n",
              "      fill: #D2E3FC;\n",
              "    }\n",
              "\n",
              "    [theme=dark] .colab-df-convert:hover {\n",
              "      background-color: #434B5C;\n",
              "      box-shadow: 0px 1px 3px 1px rgba(0, 0, 0, 0.15);\n",
              "      filter: drop-shadow(0px 1px 2px rgba(0, 0, 0, 0.3));\n",
              "      fill: #FFFFFF;\n",
              "    }\n",
              "  </style>\n",
              "\n",
              "      <script>\n",
              "        const buttonEl =\n",
              "          document.querySelector('#df-677ceb11-1724-49f4-88b9-e6938765ad13 button.colab-df-convert');\n",
              "        buttonEl.style.display =\n",
              "          google.colab.kernel.accessAllowed ? 'block' : 'none';\n",
              "\n",
              "        async function convertToInteractive(key) {\n",
              "          const element = document.querySelector('#df-677ceb11-1724-49f4-88b9-e6938765ad13');\n",
              "          const dataTable =\n",
              "            await google.colab.kernel.invokeFunction('convertToInteractive',\n",
              "                                                     [key], {});\n",
              "          if (!dataTable) return;\n",
              "\n",
              "          const docLinkHtml = 'Like what you see? Visit the ' +\n",
              "            '<a target=\"_blank\" href=https://colab.research.google.com/notebooks/data_table.ipynb>data table notebook</a>'\n",
              "            + ' to learn more about interactive tables.';\n",
              "          element.innerHTML = '';\n",
              "          dataTable['output_type'] = 'display_data';\n",
              "          await google.colab.output.renderOutput(dataTable, element);\n",
              "          const docLink = document.createElement('div');\n",
              "          docLink.innerHTML = docLinkHtml;\n",
              "          element.appendChild(docLink);\n",
              "        }\n",
              "      </script>\n",
              "    </div>\n",
              "  </div>\n",
              "  "
            ]
          },
          "metadata": {},
          "execution_count": 46
        }
      ],
      "source": [
        "\n",
        "users.describe()"
      ]
    },
    {
      "cell_type": "markdown",
      "metadata": {
        "id": "Oqm3ip5z2dP6"
      },
      "source": [
        "### Step 15. Summarize all the columns"
      ]
    },
    {
      "cell_type": "code",
      "execution_count": 47,
      "metadata": {
        "id": "sxkzX0cF2dP6",
        "colab": {
          "base_uri": "https://localhost:8080/",
          "height": 394
        },
        "outputId": "9d2f87dc-f102-4998-bb78-fa3c27be1f97"
      },
      "outputs": [
        {
          "output_type": "execute_result",
          "data": {
            "text/plain": [
              "               age gender occupation zip_code\n",
              "count   943.000000    943        943      943\n",
              "unique         NaN      2         21      795\n",
              "top            NaN      M    student    55414\n",
              "freq           NaN    670        196        9\n",
              "mean     34.051962    NaN        NaN      NaN\n",
              "std      12.192740    NaN        NaN      NaN\n",
              "min       7.000000    NaN        NaN      NaN\n",
              "25%      25.000000    NaN        NaN      NaN\n",
              "50%      31.000000    NaN        NaN      NaN\n",
              "75%      43.000000    NaN        NaN      NaN\n",
              "max      73.000000    NaN        NaN      NaN"
            ],
            "text/html": [
              "\n",
              "  <div id=\"df-86bd4e1c-07be-4b02-84ee-9a1a006251ac\">\n",
              "    <div class=\"colab-df-container\">\n",
              "      <div>\n",
              "<style scoped>\n",
              "    .dataframe tbody tr th:only-of-type {\n",
              "        vertical-align: middle;\n",
              "    }\n",
              "\n",
              "    .dataframe tbody tr th {\n",
              "        vertical-align: top;\n",
              "    }\n",
              "\n",
              "    .dataframe thead th {\n",
              "        text-align: right;\n",
              "    }\n",
              "</style>\n",
              "<table border=\"1\" class=\"dataframe\">\n",
              "  <thead>\n",
              "    <tr style=\"text-align: right;\">\n",
              "      <th></th>\n",
              "      <th>age</th>\n",
              "      <th>gender</th>\n",
              "      <th>occupation</th>\n",
              "      <th>zip_code</th>\n",
              "    </tr>\n",
              "  </thead>\n",
              "  <tbody>\n",
              "    <tr>\n",
              "      <th>count</th>\n",
              "      <td>943.000000</td>\n",
              "      <td>943</td>\n",
              "      <td>943</td>\n",
              "      <td>943</td>\n",
              "    </tr>\n",
              "    <tr>\n",
              "      <th>unique</th>\n",
              "      <td>NaN</td>\n",
              "      <td>2</td>\n",
              "      <td>21</td>\n",
              "      <td>795</td>\n",
              "    </tr>\n",
              "    <tr>\n",
              "      <th>top</th>\n",
              "      <td>NaN</td>\n",
              "      <td>M</td>\n",
              "      <td>student</td>\n",
              "      <td>55414</td>\n",
              "    </tr>\n",
              "    <tr>\n",
              "      <th>freq</th>\n",
              "      <td>NaN</td>\n",
              "      <td>670</td>\n",
              "      <td>196</td>\n",
              "      <td>9</td>\n",
              "    </tr>\n",
              "    <tr>\n",
              "      <th>mean</th>\n",
              "      <td>34.051962</td>\n",
              "      <td>NaN</td>\n",
              "      <td>NaN</td>\n",
              "      <td>NaN</td>\n",
              "    </tr>\n",
              "    <tr>\n",
              "      <th>std</th>\n",
              "      <td>12.192740</td>\n",
              "      <td>NaN</td>\n",
              "      <td>NaN</td>\n",
              "      <td>NaN</td>\n",
              "    </tr>\n",
              "    <tr>\n",
              "      <th>min</th>\n",
              "      <td>7.000000</td>\n",
              "      <td>NaN</td>\n",
              "      <td>NaN</td>\n",
              "      <td>NaN</td>\n",
              "    </tr>\n",
              "    <tr>\n",
              "      <th>25%</th>\n",
              "      <td>25.000000</td>\n",
              "      <td>NaN</td>\n",
              "      <td>NaN</td>\n",
              "      <td>NaN</td>\n",
              "    </tr>\n",
              "    <tr>\n",
              "      <th>50%</th>\n",
              "      <td>31.000000</td>\n",
              "      <td>NaN</td>\n",
              "      <td>NaN</td>\n",
              "      <td>NaN</td>\n",
              "    </tr>\n",
              "    <tr>\n",
              "      <th>75%</th>\n",
              "      <td>43.000000</td>\n",
              "      <td>NaN</td>\n",
              "      <td>NaN</td>\n",
              "      <td>NaN</td>\n",
              "    </tr>\n",
              "    <tr>\n",
              "      <th>max</th>\n",
              "      <td>73.000000</td>\n",
              "      <td>NaN</td>\n",
              "      <td>NaN</td>\n",
              "      <td>NaN</td>\n",
              "    </tr>\n",
              "  </tbody>\n",
              "</table>\n",
              "</div>\n",
              "      <button class=\"colab-df-convert\" onclick=\"convertToInteractive('df-86bd4e1c-07be-4b02-84ee-9a1a006251ac')\"\n",
              "              title=\"Convert this dataframe to an interactive table.\"\n",
              "              style=\"display:none;\">\n",
              "        \n",
              "  <svg xmlns=\"http://www.w3.org/2000/svg\" height=\"24px\"viewBox=\"0 0 24 24\"\n",
              "       width=\"24px\">\n",
              "    <path d=\"M0 0h24v24H0V0z\" fill=\"none\"/>\n",
              "    <path d=\"M18.56 5.44l.94 2.06.94-2.06 2.06-.94-2.06-.94-.94-2.06-.94 2.06-2.06.94zm-11 1L8.5 8.5l.94-2.06 2.06-.94-2.06-.94L8.5 2.5l-.94 2.06-2.06.94zm10 10l.94 2.06.94-2.06 2.06-.94-2.06-.94-.94-2.06-.94 2.06-2.06.94z\"/><path d=\"M17.41 7.96l-1.37-1.37c-.4-.4-.92-.59-1.43-.59-.52 0-1.04.2-1.43.59L10.3 9.45l-7.72 7.72c-.78.78-.78 2.05 0 2.83L4 21.41c.39.39.9.59 1.41.59.51 0 1.02-.2 1.41-.59l7.78-7.78 2.81-2.81c.8-.78.8-2.07 0-2.86zM5.41 20L4 18.59l7.72-7.72 1.47 1.35L5.41 20z\"/>\n",
              "  </svg>\n",
              "      </button>\n",
              "      \n",
              "  <style>\n",
              "    .colab-df-container {\n",
              "      display:flex;\n",
              "      flex-wrap:wrap;\n",
              "      gap: 12px;\n",
              "    }\n",
              "\n",
              "    .colab-df-convert {\n",
              "      background-color: #E8F0FE;\n",
              "      border: none;\n",
              "      border-radius: 50%;\n",
              "      cursor: pointer;\n",
              "      display: none;\n",
              "      fill: #1967D2;\n",
              "      height: 32px;\n",
              "      padding: 0 0 0 0;\n",
              "      width: 32px;\n",
              "    }\n",
              "\n",
              "    .colab-df-convert:hover {\n",
              "      background-color: #E2EBFA;\n",
              "      box-shadow: 0px 1px 2px rgba(60, 64, 67, 0.3), 0px 1px 3px 1px rgba(60, 64, 67, 0.15);\n",
              "      fill: #174EA6;\n",
              "    }\n",
              "\n",
              "    [theme=dark] .colab-df-convert {\n",
              "      background-color: #3B4455;\n",
              "      fill: #D2E3FC;\n",
              "    }\n",
              "\n",
              "    [theme=dark] .colab-df-convert:hover {\n",
              "      background-color: #434B5C;\n",
              "      box-shadow: 0px 1px 3px 1px rgba(0, 0, 0, 0.15);\n",
              "      filter: drop-shadow(0px 1px 2px rgba(0, 0, 0, 0.3));\n",
              "      fill: #FFFFFF;\n",
              "    }\n",
              "  </style>\n",
              "\n",
              "      <script>\n",
              "        const buttonEl =\n",
              "          document.querySelector('#df-86bd4e1c-07be-4b02-84ee-9a1a006251ac button.colab-df-convert');\n",
              "        buttonEl.style.display =\n",
              "          google.colab.kernel.accessAllowed ? 'block' : 'none';\n",
              "\n",
              "        async function convertToInteractive(key) {\n",
              "          const element = document.querySelector('#df-86bd4e1c-07be-4b02-84ee-9a1a006251ac');\n",
              "          const dataTable =\n",
              "            await google.colab.kernel.invokeFunction('convertToInteractive',\n",
              "                                                     [key], {});\n",
              "          if (!dataTable) return;\n",
              "\n",
              "          const docLinkHtml = 'Like what you see? Visit the ' +\n",
              "            '<a target=\"_blank\" href=https://colab.research.google.com/notebooks/data_table.ipynb>data table notebook</a>'\n",
              "            + ' to learn more about interactive tables.';\n",
              "          element.innerHTML = '';\n",
              "          dataTable['output_type'] = 'display_data';\n",
              "          await google.colab.output.renderOutput(dataTable, element);\n",
              "          const docLink = document.createElement('div');\n",
              "          docLink.innerHTML = docLinkHtml;\n",
              "          element.appendChild(docLink);\n",
              "        }\n",
              "      </script>\n",
              "    </div>\n",
              "  </div>\n",
              "  "
            ]
          },
          "metadata": {},
          "execution_count": 47
        }
      ],
      "source": [
        "\n",
        "users.describe(include='all')"
      ]
    },
    {
      "cell_type": "markdown",
      "metadata": {
        "id": "D8_Loplh2dP6"
      },
      "source": [
        "### Step 16. Summarize only the occupation column"
      ]
    },
    {
      "cell_type": "code",
      "execution_count": 48,
      "metadata": {
        "id": "V2p-2wsm2dP7",
        "colab": {
          "base_uri": "https://localhost:8080/"
        },
        "outputId": "d91c6fba-a7da-4efd-ce69-0471f6effa89"
      },
      "outputs": [
        {
          "output_type": "execute_result",
          "data": {
            "text/plain": [
              "count         943\n",
              "unique         21\n",
              "top       student\n",
              "freq          196\n",
              "Name: occupation, dtype: object"
            ]
          },
          "metadata": {},
          "execution_count": 48
        }
      ],
      "source": [
        "\n",
        "users.occupation.describe()"
      ]
    },
    {
      "cell_type": "markdown",
      "metadata": {
        "id": "F2WhtkqT2dP7"
      },
      "source": [
        "### Step 17. What is the mean age of users?"
      ]
    },
    {
      "cell_type": "code",
      "execution_count": 49,
      "metadata": {
        "id": "7anlZYts2dP7",
        "colab": {
          "base_uri": "https://localhost:8080/"
        },
        "outputId": "918008d1-b0dc-4105-ef03-0c9d6104c6fa"
      },
      "outputs": [
        {
          "output_type": "execute_result",
          "data": {
            "text/plain": [
              "34.05196182396607"
            ]
          },
          "metadata": {},
          "execution_count": 49
        }
      ],
      "source": [
        "\n",
        "users.age.mean()"
      ]
    },
    {
      "cell_type": "markdown",
      "metadata": {
        "id": "nJE5bbx12dP7"
      },
      "source": [
        "### Step 18. What is the age with least occurrence?"
      ]
    },
    {
      "cell_type": "code",
      "execution_count": 50,
      "metadata": {
        "id": "kwc2jg-x2dP7",
        "colab": {
          "base_uri": "https://localhost:8080/"
        },
        "outputId": "85c2a034-29d1-466b-a501-4d592ca83140"
      },
      "outputs": [
        {
          "output_type": "execute_result",
          "data": {
            "text/plain": [
              "7"
            ]
          },
          "metadata": {},
          "execution_count": 50
        }
      ],
      "source": [
        "\n",
        "users.groupby(['occupation'])['occupation'].count().min()"
      ]
    },
    {
      "cell_type": "markdown",
      "metadata": {
        "id": "ohNwk_KO_ZfE"
      },
      "source": [
        "# Part 2 - Visualization with Chipotle's Data"
      ]
    },
    {
      "cell_type": "markdown",
      "metadata": {
        "id": "rKk9poxq_ZfF"
      },
      "source": [
        "Special thanks to: https://github.com/justmarkham for sharing the dataset and materials.\n",
        "\n",
        "### Step 1. Import the necessary libraries"
      ]
    },
    {
      "cell_type": "code",
      "execution_count": 51,
      "metadata": {
        "id": "9067DaZD_ZfG"
      },
      "outputs": [],
      "source": [
        "import pandas as pd"
      ]
    },
    {
      "cell_type": "markdown",
      "metadata": {
        "id": "c-Nq8zAq_ZfH"
      },
      "source": [
        "### Step 2. Import the dataset ([chipotle.tsv](https://github.com/chavesana/INF502-Fall22/blob/main/data/chipotle.tsv)). "
      ]
    },
    {
      "cell_type": "code",
      "execution_count": 52,
      "metadata": {
        "id": "tx6t6nHR_ZfH"
      },
      "outputs": [],
      "source": [
        "\n",
        "dataset2 = pandas.read_csv('https://raw.githubusercontent.com/chavesana/INF502-Fall22/main/data/chipotle.tsv', sep='\\t')"
      ]
    },
    {
      "cell_type": "markdown",
      "metadata": {
        "id": "scq3xWVt_ZfH"
      },
      "source": [
        "### Step 3. Assign it to a variable called `chipo`."
      ]
    },
    {
      "cell_type": "code",
      "execution_count": 53,
      "metadata": {
        "id": "Y9_sSOIb_ZfI"
      },
      "outputs": [],
      "source": [
        "\n",
        "chipo=dataset2"
      ]
    },
    {
      "cell_type": "markdown",
      "source": [
        "### Step 4. Show the average of the column `item_price`"
      ],
      "metadata": {
        "id": "f_ioEubM_w8b"
      }
    },
    {
      "cell_type": "code",
      "source": [
        "\n",
        "chipo.item_price.mean()"
      ],
      "metadata": {
        "id": "MYgSxifV_6PR",
        "colab": {
          "base_uri": "https://localhost:8080/"
        },
        "outputId": "c2289dc2-9f7e-449b-9750-835d6610afc6"
      },
      "execution_count": 54,
      "outputs": [
        {
          "output_type": "execute_result",
          "data": {
            "text/plain": [
              "7.464335785374297"
            ]
          },
          "metadata": {},
          "execution_count": 54
        }
      ]
    },
    {
      "cell_type": "markdown",
      "source": [
        "### Step 5. Count the number of occurrences for `\"Chicken Bowl\"`"
      ],
      "metadata": {
        "id": "XtJKEs1f_7Ap"
      }
    },
    {
      "cell_type": "code",
      "source": [
        "\n",
        "chipo.item_name.value_counts()['Chicken Bowl']"
      ],
      "metadata": {
        "id": "T0jObdNeAFmU",
        "colab": {
          "base_uri": "https://localhost:8080/"
        },
        "outputId": "84b0594d-a36b-4efb-b43c-f16a59880b95"
      },
      "execution_count": 55,
      "outputs": [
        {
          "output_type": "execute_result",
          "data": {
            "text/plain": [
              "726"
            ]
          },
          "metadata": {},
          "execution_count": 55
        }
      ]
    },
    {
      "cell_type": "markdown",
      "source": [
        "### Step 6. Count the number of items with ``NULL``as the `choice_description`"
      ],
      "metadata": {
        "id": "wbMOTcxuAF9c"
      }
    },
    {
      "cell_type": "code",
      "source": [
        "\n",
        "chipo.choice_description.isna().sum()"
      ],
      "metadata": {
        "id": "B8sFqcgu4OUe",
        "colab": {
          "base_uri": "https://localhost:8080/"
        },
        "outputId": "854e3c6f-310c-4876-b78b-0b63c64fe44a"
      },
      "execution_count": 56,
      "outputs": [
        {
          "output_type": "execute_result",
          "data": {
            "text/plain": [
              "1246"
            ]
          },
          "metadata": {},
          "execution_count": 56
        }
      ]
    },
    {
      "cell_type": "markdown",
      "metadata": {
        "id": "QyFTgGz2_ZfI"
      },
      "source": [
        "### Step 7. Show the first 10 entries"
      ]
    },
    {
      "cell_type": "code",
      "execution_count": 57,
      "metadata": {
        "scrolled": false,
        "id": "hyAzAmHw_ZfJ",
        "colab": {
          "base_uri": "https://localhost:8080/",
          "height": 363
        },
        "outputId": "caf4273b-6bb8-415e-82fc-0ca733324021"
      },
      "outputs": [
        {
          "output_type": "execute_result",
          "data": {
            "text/plain": [
              "   order_id  quantity                              item_name  \\\n",
              "0         1         1           Chips and Fresh Tomato Salsa   \n",
              "1         1         1                                   Izze   \n",
              "2         1         1                       Nantucket Nectar   \n",
              "3         1         1  Chips and Tomatillo-Green Chili Salsa   \n",
              "4         2         2                           Chicken Bowl   \n",
              "5         3         1                           Chicken Bowl   \n", 
              "6         3         1                          Side of Chips   \n",
              "7         4         1                          Steak Burrito   \n",
              "8         4         1                       Steak Soft Tacos   \n",
              "9         5         1                          Steak Burrito   \n",
              "\n",
              "                                  choice_description  item_price  \n",
              "0                                                NaN        2.39  \n",
              "1                                       [Clementine]        3.39  \n",
              "2                                            [Apple]        3.39  \n",
              "3                                                NaN        2.39  \n",
              "4  [Tomatillo-Red Chili Salsa (Hot), [Black Beans...       16.98  \n",
              "5  [Fresh Tomato Salsa (Mild), [Rice, Cheese, Sou...       10.98  \n",
              "6                                                NaN        1.69  \n",
              "7  [Tomatillo Red Chili Salsa, [Fajita Vegetables...       11.75  \n",
              "8  [Tomatillo Green Chili Salsa, [Pinto Beans, Ch...        9.25  \n",
              "9  [Fresh Tomato Salsa, [Rice, Black Beans, Pinto...        9.25  "
            ],
            "text/html": [
              "\n",
              "  <div id=\"df-e5c9426a-617e-4227-8dbd-64db681ffa02\">\n",
              "    <div class=\"colab-df-container\">\n",
              "      <div>\n",
              "<style scoped>\n",
              "    .dataframe tbody tr th:only-of-type {\n",
              "        vertical-align: middle;\n",
              "    }\n",
              "\n",
              "    .dataframe tbody tr th {\n",
              "        vertical-align: top;\n",
              "    }\n",
              "\n",
              "    .dataframe thead th {\n",
              "        text-align: right;\n",
              "    }\n",
              "</style>\n",
              "<table border=\"1\" class=\"dataframe\">\n",
              "  <thead>\n",
              "    <tr style=\"text-align: right;\">\n",
              "      <th></th>\n",
              "      <th>order_id</th>\n",
              "      <th>quantity</th>\n",
              "      <th>item_name</th>\n",
              "      <th>choice_description</th>\n",
              "      <th>item_price</th>\n",
              "    </tr>\n",
              "  </thead>\n",
              "  <tbody>\n",
              "    <tr>\n",
              "      <th>0</th>\n",
              "      <td>1</td>\n",
              "      <td>1</td>\n",
              "      <td>Chips and Fresh Tomato Salsa</td>\n",
              "      <td>NaN</td>\n",
              "      <td>2.39</td>\n",
              "    </tr>\n",
              "    <tr>\n",
              "      <th>1</th>\n",
              "      <td>1</td>\n",
              "      <td>1</td>\n",
              "      <td>Izze</td>\n",
              "      <td>[Clementine]</td>\n",
              "      <td>3.39</td>\n",
              "    </tr>\n",
              "    <tr>\n",
              "      <th>2</th>\n",
              "      <td>1</td>\n",
              "      <td>1</td>\n",
              "      <td>Nantucket Nectar</td>\n",
              "      <td>[Apple]</td>\n",
              "      <td>3.39</td>\n",
              "    </tr>\n",
              "    <tr>\n",
              "      <th>3</th>\n",
              "      <td>1</td>\n",
              "      <td>1</td>\n",
              "      <td>Chips and Tomatillo-Green Chili Salsa</td>\n",
              "      <td>NaN</td>\n",
              "      <td>2.39</td>\n",
              "    </tr>\n",
              "    <tr>\n",
              "      <th>4</th>\n",
              "      <td>2</td>\n",
              "      <td>2</td>\n",
              "      <td>Chicken Bowl</td>\n",
              "      <td>[Tomatillo-Red Chili Salsa (Hot), [Black Beans...</td>\n",
              "      <td>16.98</td>\n",
              "    </tr>\n",
              "    <tr>\n",
              "      <th>5</th>\n",
              "      <td>3</td>\n",
              "      <td>1</td>\n",
              "      <td>Chicken Bowl</td>\n",
              "      <td>[Fresh Tomato Salsa (Mild), [Rice, Cheese, Sou...</td>\n",
              "      <td>10.98</td>\n",
              "    </tr>\n",
              "    <tr>\n",
              "      <th>6</th>\n",
              "      <td>3</td>\n",
              "      <td>1</td>\n",
              "      <td>Side of Chips</td>\n",
              "      <td>NaN</td>\n",
              "      <td>1.69</td>\n",
              "    </tr>\n",
              "    <tr>\n",
              "      <th>7</th>\n", 
              "      <td>4</td>\n",
              "      <td>1</td>\n",
              "      <td>Steak Burrito</td>\n",
              "      <td>[Tomatillo Red Chili Salsa, [Fajita Vegetables...</td>\n",
              "      <td>11.75</td>\n",
              "    </tr>\n",
              "    <tr>\n",
              "      <th>8</th>\n",
              "      <td>4</td>\n",
              "      <td>1</td>\n",
              "      <td>Steak Soft Tacos</td>\n",
              "      <td>[Tomatillo Green Chili Salsa, [Pinto Beans, Ch...</td>\n",
              "      <td>9.25</td>\n",
              "    </tr>\n",
              "    <tr>\n",
              "      <th>9</th>\n",
              "      <td>5</td>\n",
              "      <td>1</td>\n",
              "      <td>Steak Burrito</td>\n",
              "      <td>[Fresh Tomato Salsa, [Rice, Black Beans, Pinto...</td>\n",
              "      <td>9.25</td>\n",
              "    </tr>\n",
              "  </tbody>\n",
              "</table>\n",
              "</div>\n",
              "      <button class=\"colab-df-convert\" onclick=\"convertToInteractive('df-e5c9426a-617e-4227-8dbd-64db681ffa02')\"\n",
              "              title=\"Convert this dataframe to an interactive table.\"\n",
              "              style=\"display:none;\">\n",
              "        \n",
              "  <svg xmlns=\"http://www.w3.org/2000/svg\" height=\"24px\"viewBox=\"0 0 24 24\"\n",
              "       width=\"24px\">\n",
              "    <path d=\"M0 0h24v24H0V0z\" fill=\"none\"/>\n",
              "    <path d=\"M18.56 5.44l.94 2.06.94-2.06 2.06-.94-2.06-.94-.94-2.06-.94 2.06-2.06.94zm-11 1L8.5 8.5l.94-2.06 2.06-.94-2.06-.94L8.5 2.5l-.94 2.06-2.06.94zm10 10l.94 2.06.94-2.06 2.06-.94-2.06-.94-.94-2.06-.94 2.06-2.06.94z\"/><path d=\"M17.41 7.96l-1.37-1.37c-.4-.4-.92-.59-1.43-.59-.52 0-1.04.2-1.43.59L10.3 9.45l-7.72 7.72c-.78.78-.78 2.05 0 2.83L4 21.41c.39.39.9.59 1.41.59.51 0 1.02-.2 1.41-.59l7.78-7.78 2.81-2.81c.8-.78.8-2.07 0-2.86zM5.41 20L4 18.59l7.72-7.72 1.47 1.35L5.41 20z\"/>\n",
              "  </svg>\n",
              "      </button>\n",
              "      \n",
              "  <style>\n",
              "    .colab-df-container {\n",
              "      display:flex;\n",
              "      flex-wrap:wrap;\n",
              "      gap: 12px;\n",
              "    }\n",
              "\n",
              "    .colab-df-convert {\n",
              "      background-color: #E8F0FE;\n",
              "      border: none;\n",
              "      border-radius: 50%;\n",
              "      cursor: pointer;\n",
              "      display: none;\n",
              "      fill: #1967D2;\n",
              "      height: 32px;\n",
              "      padding: 0 0 0 0;\n",
              "      width: 32px;\n",
              "    }\n",
              "\n",
              "    .colab-df-convert:hover {\n",
              "      background-color: #E2EBFA;\n",
              "      box-shadow: 0px 1px 2px rgba(60, 64, 67, 0.3), 0px 1px 3px 1px rgba(60, 64, 67, 0.15);\n",
              "      fill: #174EA6;\n",
              "    }\n",
              "\n",
              "    [theme=dark] .colab-df-convert {\n",
              "      background-color: #3B4455;\n",
              "      fill: #D2E3FC;\n",
              "    }\n",
              "\n",
              "    [theme=dark] .colab-df-convert:hover {\n",
              "      background-color: #434B5C;\n",
              "      box-shadow: 0px 1px 3px 1px rgba(0, 0, 0, 0.15);\n",
              "      filter: drop-shadow(0px 1px 2px rgba(0, 0, 0, 0.3));\n",
              "      fill: #FFFFFF;\n",
              "    }\n",
              "  </style>\n",
              "\n",
              "      <script>\n",
              "        const buttonEl =\n",
              "          document.querySelector('#df-e5c9426a-617e-4227-8dbd-64db681ffa02 button.colab-df-convert');\n",
              "        buttonEl.style.display =\n",
              "          google.colab.kernel.accessAllowed ? 'block' : 'none';\n",
              "\n",
              "        async function convertToInteractive(key) {\n",
              "          const element = document.querySelector('#df-e5c9426a-617e-4227-8dbd-64db681ffa02');\n",
              "          const dataTable =\n",
              "            await google.colab.kernel.invokeFunction('convertToInteractive',\n",
              "                                                     [key], {});\n",
              "          if (!dataTable) return;\n",
              "\n",
              "          const docLinkHtml = 'Like what you see? Visit the ' +\n",
              "            '<a target=\"_blank\" href=https://colab.research.google.com/notebooks/data_table.ipynb>data table notebook</a>'\n",
              "            + ' to learn more about interactive tables.';\n",
              "          element.innerHTML = '';\n",
              "          dataTable['output_type'] = 'display_data';\n",
              "          await google.colab.output.renderOutput(dataTable, element);\n",
              "          const docLink = document.createElement('div');\n",
              "          docLink.innerHTML = docLinkHtml;\n",
              "          element.appendChild(docLink);\n",
              "        }\n",
              "      </script>\n",
              "    </div>\n",
              "  </div>\n",
              "  "
            ]
          },
          "metadata": {},
          "execution_count": 57
        }
      ],
      "source": [
        "\n",
        "chipo.head(10)"
      ]
    },
    {
      "cell_type": "markdown",
      "metadata": {
        "id": "pMKLqbNy_ZfJ"
      },
      "source": [
        "### Step 8. Create a bar plot of the top 5 items bought (total quantity per item)\n",
        
      ]
    },
    {
      "cell_type": "code",
      "execution_count": 58,
      "metadata": {
        "id": "mnwJQlOQ_ZfK",
        "colab": {
          "base_uri": "https://localhost:8080/",
          "height": 396
        },
        "outputId": "324fdbf0-0c2c-458f-c975-15a34b2705b8"
      },
      "outputs": [
        {
          "output_type": "execute_result",
          "data": {
            "text/plain": [
              "<matplotlib.axes._subplots.AxesSubplot at 0x7f3e7e3f68d0>" 
            ]
          },
          "metadata": {},
          "execution_count": 58
        },
        {
          "output_type": "display_data",
          "data": {
            "text/plain": [
              "<Figure size 432x288 with 1 Axes>"
            ],
            "image/png": "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\n"
          },
          "metadata": {
            "needs_background": "light"
          }
        }
      ],
      "source": [
        "\n",
        "chipo.groupby('item_name')['quantity'].sum().sort_values(ascending=False).head(5).plot.bar()"
      ]
    },
    {
      "cell_type": "markdown",
      "metadata": {
        "id": "re1JmdT6_ZfK"
      },
      "source": [
        "### Step 9. Create a scatterplot with the number of items orderered per order price\n",
        "#### Hint: Price should be in the X-axis and Items ordered in the Y-axis\n",
        "(You can groupby and use the result)"
      ]
    },
    {
      "cell_type": "code",
      "execution_count": 59,
      "metadata": {
        "id": "4VjkwE9J_ZfK",
        "colab": {
          "base_uri": "https://localhost:8080/",
          "height": 297
        },
        "outputId": "9b0d24ab-6681-4ef9-a7a9-e52c2ebfc59f"
      },
      "outputs": [
        {
          "output_type": "execute_result",
          "data": {
            "text/plain": [
              "<matplotlib.axes._subplots.AxesSubplot at 0x7f3e7e3e32d0>"
            ]
          },
          "metadata": {},
          "execution_count": 59
        },
        {
          "output_type": "display_data",
          "data": {
            "text/plain": [
              "<Figure size 432x288 with 1 Axes>"
            ],
            "image/png": "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\n"
          },
          "metadata": {
            "needs_background": "light"
          }
        }
      ],
      "source": [
        "\n",
        "import seaborn as sns\n",
        "df=chipo.groupby('item_price')['item_name'].count().reset_index()\n",
        "sns.scatterplot(x=\"item_price\", y=\"item_name\", data=df)"
      ]
    },
    {
      "cell_type": "code",
      "source": [],
      "metadata": {
        "id": "ct-nAi3sLomo"
      },
      "execution_count": 59,
      "outputs": []
    }
  ],
  "metadata": {
    "kernelspec": {
      "display_name": "Python 3",
      "language": "python",
      "name": "python3"
    },
    "language_info": {
      "codemirror_mode": {
        "name": "ipython",
        "version": 3
      },
      "file_extension": ".py",
      "mimetype": "text/x-python",
      "name": "python",
      "nbconvert_exporter": "python",
      "pygments_lexer": "ipython3",
      "version": "3.7.3"
    },
    "colab": {
      "provenance": [],
      "collapsed_sections": [],
      "include_colab_link": true
    }
  },
  "nbformat": 4,
  "nbformat_minor": 0 
}
