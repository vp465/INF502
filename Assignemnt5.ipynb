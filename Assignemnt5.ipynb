{
  "nbformat": 4,
  "nbformat_minor": 0,
  "metadata": {
    "colab": {
      "provenance": [],
      "collapsed_sections": [],
      "authorship_tag": "ABX9TyMTX4ItjL6UqSE+GfoSN0fW",
      "include_colab_link": true
    },
    "kernelspec": {
      "name": "python3",
      "display_name": "Python 3"
    },
    "language_info": {
      "name": "python"
    }
  },
  "cells": [
    {
      "cell_type": "markdown",
      "metadata": {
        "id": "view-in-github",
        "colab_type": "text"
      },
      "source": [
        "<a href=\"https://colab.research.google.com/github/vp465/INF502/blob/main/Assignemnt5.ipynb\" target=\"_parent\"><img src=\"https://colab.research.google.com/assets/colab-badge.svg\" alt=\"Open In Colab\"/></a>"
      ]
    },
    {
      "cell_type": "code",
      "execution_count": null,
      "metadata": {
        "id": "wK5tsldyQnbO"
      },
      "outputs": [],
      "source": [
        "def gcd(a,b):\n",
        "    if(b==0):\n",
        "        return a\n",
        "    else:\n",
        "        return gcd(b,a%b)"
      ]
    },
    {
      "cell_type": "code",
      "source": [
        "def main():\n",
        "    print(gcd(48,30))\n",
        "    print(gcd(9,12))\n",
        "    print(gcd(84,36))\n",
        "    print(gcd(56,26))"
      ],
      "metadata": {
        "id": "5ce76mI-Qulg"
      },
      "execution_count": null,
      "outputs": []
    },
    {
      "cell_type": "code",
      "source": [
        "if __name__==\"__main__\":\n",
        "    main()"
      ],
      "metadata": {
        "id": "7ZgHFQlzQydE"
      },
      "execution_count": null,
      "outputs": []
    },
    {
      "cell_type": "markdown",
      "source": [
        "Explanation of how GCD would work:\n",
        "\n",
        "1.)User must enter two numbers.\n",
        "\n",
        "2.)The two numbers are passed as arguments to a recursive function.\n",
        "\n",
        "3.)When the second number becomes 0, the first number is returned.\n",
        "\n",
        "4.)Else the function is recursively called with the arguments as the second number and the remainder when the first number is divided by the second number.\n",
        "\n",
        "5.)The first number is then returned which is the GCD of the two numbers.\n",
        "\n",
        "6.)The GCD is then printed."
      ],
      "metadata": {
        "id": "cPyyWuWmQ3P4"
      }
    }
  ]
}