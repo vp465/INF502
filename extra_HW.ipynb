{
  "nbformat": 4,
  "nbformat_minor": 0,
  "metadata": {
    "colab": {
      "provenance": [],
      "collapsed_sections": [],
      "authorship_tag": "ABX9TyOHMhdQLVozu7LGmFMJWHb5",
      "include_colab_link": true
    },
    "kernelspec": {
      "name": "python3",
      "display_name": "Python 3"
    },
    "language_info": {
      "name": "python"
    }
  },
  "cells": [
    {
      "cell_type": "markdown",
      "metadata": {
        "id": "view-in-github",
        "colab_type": "text"
      },
      "source": [
        "<a href=\"https://colab.research.google.com/github/vp465/INF502/blob/main/extra_HW.ipynb\" target=\"_parent\"><img src=\"https://colab.research.google.com/assets/colab-badge.svg\" alt=\"Open In Colab\"/></a>"
      ]
    },
    {
      "cell_type": "code",
      "execution_count": 72,
      "metadata": {
        "id": "SjTVOYCLvSXN"
      },
      "outputs": [],
      "source": [
        "from bs4 import BeautifulSoup as soup\n",
        "from urllib.request import Request,urlopen as uReq\n",
        "import pandas as pd \n",
        "import csv\n",
        "import seaborn as sns"
      ]
    },
    {
      "cell_type": "code",
      "source": [
        "def web_scrape():\n",
        "    my_url='https://en.wikipedia.org/wiki/List_of_countries_and_dependencies_by_population_density'\n",
        "    uClient=uReq(my_url)\n",
        "    page_html=uClient.read()\n",
        "    uClient.close()\n",
        "    page_soup=soup(page_html,\"html.parser\")\n",
        "    table=page_soup.find_all('tbody')[0]\n",
        "    main_table=table.find_all(['th','td'])\n",
        "    c=1\n",
        "    with open('world_table.csv', 'w', newline='') as file:\n",
        "        writer = csv.writer(file)\n",
        "        writer.writerow(['Country name','Area (km^2)','Area (mi^2)','Population','d1','d2','d3'])\n",
        "        for i in main_table[9:]:\n",
        "            if(c==1):\n",
        "                country=i.text\n",
        "            elif(c==2):\n",
        "                area1=i.text\n",
        "            elif(c==3):\n",
        "                area2=i.text\n",
        "            elif(c==4):\n",
        "                popu=i.text\n",
        "            elif(c==5):\n",
        "                d1=i.text\n",
        "            elif(c==6):\n",
        "                d2=i.text\n",
        "            elif(c==7):\n",
        "                d3=i.text\n",
        "                writer.writerow([country,area1,area2,popu,d1,d2,d3])\n",
        "                c=0\n",
        "            c=c+1"
      ],
      "metadata": {
        "id": "qnTWqxgRxbLT"
      },
      "execution_count": 73,
      "outputs": []
    },
    {
      "cell_type": "code",
      "source": [
        "web_scrape()"
      ],
      "metadata": {
        "id": "tSGzGYoDxgGt"
      },
      "execution_count": 74,
      "outputs": []
    },
    {
      "cell_type": "code",
      "source": [
        "df=pd.read_csv('world_table.csv',encoding = 'ISO-8859-1')"
      ],
      "metadata": {
        "id": "3rfnFUPQ4KWN"
      },
      "execution_count": 75,
      "outputs": []
    },
    {
      "cell_type": "code",
      "source": [
        " df"
      ],
      "metadata": {
        "colab": {
          "base_uri": "https://localhost:8080/",
          "height": 424
        },
        "id": "rlUz-4uD4X6X",
        "outputId": "b67895cb-ecd5-45e2-ebed-813e41e2e8a2"
      },
      "execution_count": 76,
      "outputs": [
        {
          "output_type": "execute_result",
          "data": {
            "text/plain": [
              "                            Country name Area (km^2) Area (mi^2) Population  \\\n",
              "0                      Â Macau (China)\\n     686,607          33         13   \n",
              "1                             Â Monaco\\n      36,686           2          1   \n",
              "2                          Â Singapore\\n   5,453,600         716        276   \n",
              "3                  Â Hong Kong (China)\\n   7,494,578       1,104        426   \n",
              "4                    Â Gibraltar (BOT)\\n      32,669           6          2   \n",
              "..                                   ...         ...         ...        ...   \n",
              "245                         Â Mongolia\\n   3,347,782   1,564,116    603,905   \n",
              "246           Western Sahara [note 14]\\n     565,581     266,000    102,703   \n",
              "247           Â Falkland Islands (BOT)\\n       3,764      12,173      4,700   \n",
              "248  Â Svalbard and Jan Mayen (Norway)\\n       2,939      62,422  24,101.13   \n",
              "249              Â Greenland (Denmark)\\n      56,243   2,166,086  836,325.8   \n",
              "\n",
              "         d1      d2                 d3  \n",
              "0    20,806  53,888             2021\\n  \n",
              "1    18,343  47,508             2021\\n  \n",
              "2     7,617  19,727             2021\\n  \n",
              "3     6,789  17,582             2021\\n  \n",
              "4     5,445  14,102             2021\\n  \n",
              "..      ...     ...                ...  \n",
              "245       2       6             2021\\n  \n",
              "246       2       6             2021\\n  \n",
              "247     0.3     0.8             2021\\n  \n",
              "248    0.05    0.12  [34] 1 Sep 2012\\n  \n",
              "249    0.03    0.07             2021\\n  \n",
              "\n",
              "[250 rows x 7 columns]"
            ],
            "text/html": [
              "\n",
              "  <div id=\"df-bc74f25d-59fd-43cb-94cb-4b1393db9c33\">\n",
              "    <div class=\"colab-df-container\">\n",
              "      <div>\n",
              "<style scoped>\n",
              "    .dataframe tbody tr th:only-of-type {\n",
              "        vertical-align: middle;\n",
              "    }\n",
              "\n",
              "    .dataframe tbody tr th {\n",
              "        vertical-align: top;\n",
              "    }\n",
              "\n",
              "    .dataframe thead th {\n",
              "        text-align: right;\n",
              "    }\n",
              "</style>\n",
              "<table border=\"1\" class=\"dataframe\">\n",
              "  <thead>\n",
              "    <tr style=\"text-align: right;\">\n",
              "      <th></th>\n",
              "      <th>Country name</th>\n",
              "      <th>Area (km^2)</th>\n",
              "      <th>Area (mi^2)</th>\n",
              "      <th>Population</th>\n",
              "      <th>d1</th>\n",
              "      <th>d2</th>\n",
              "      <th>d3</th>\n",
              "    </tr>\n",
              "  </thead>\n",
              "  <tbody>\n",
              "    <tr>\n",
              "      <th>0</th>\n",
              "      <td>Â Macau (China)\\n</td>\n",
              "      <td>686,607</td>\n",
              "      <td>33</td>\n",
              "      <td>13</td>\n",
              "      <td>20,806</td>\n",
              "      <td>53,888</td>\n",
              "      <td>2021\\n</td>\n",
              "    </tr>\n",
              "    <tr>\n",
              "      <th>1</th>\n",
              "      <td>Â Monaco\\n</td>\n",
              "      <td>36,686</td>\n",
              "      <td>2</td>\n",
              "      <td>1</td>\n",
              "      <td>18,343</td>\n",
              "      <td>47,508</td>\n",
              "      <td>2021\\n</td>\n",
              "    </tr>\n",
              "    <tr>\n",
              "      <th>2</th>\n",
              "      <td>Â Singapore\\n</td>\n",
              "      <td>5,453,600</td>\n",
              "      <td>716</td>\n",
              "      <td>276</td>\n",
              "      <td>7,617</td>\n",
              "      <td>19,727</td>\n",
              "      <td>2021\\n</td>\n",
              "    </tr>\n",
              "    <tr>\n",
              "      <th>3</th>\n",
              "      <td>Â Hong Kong (China)\\n</td>\n",
              "      <td>7,494,578</td>\n",
              "      <td>1,104</td>\n",
              "      <td>426</td>\n",
              "      <td>6,789</td>\n",
              "      <td>17,582</td>\n",
              "      <td>2021\\n</td>\n",
              "    </tr>\n",
              "    <tr>\n",
              "      <th>4</th>\n",
              "      <td>Â Gibraltar (BOT)\\n</td>\n",
              "      <td>32,669</td>\n",
              "      <td>6</td>\n",
              "      <td>2</td>\n",
              "      <td>5,445</td>\n",
              "      <td>14,102</td>\n",
              "      <td>2021\\n</td>\n",
              "    </tr>\n",
              "    <tr>\n",
              "      <th>...</th>\n",
              "      <td>...</td>\n",
              "      <td>...</td>\n",
              "      <td>...</td>\n",
              "      <td>...</td>\n",
              "      <td>...</td>\n",
              "      <td>...</td>\n",
              "      <td>...</td>\n",
              "    </tr>\n",
              "    <tr>\n",
              "      <th>245</th>\n",
              "      <td>Â Mongolia\\n</td>\n",
              "      <td>3,347,782</td>\n",
              "      <td>1,564,116</td>\n",
              "      <td>603,905</td>\n",
              "      <td>2</td>\n",
              "      <td>6</td>\n",
              "      <td>2021\\n</td>\n",
              "    </tr>\n",
              "    <tr>\n",
              "      <th>246</th>\n",
              "      <td>Western Sahara [note 14]\\n</td>\n",
              "      <td>565,581</td>\n",
              "      <td>266,000</td>\n",
              "      <td>102,703</td>\n",
              "      <td>2</td>\n",
              "      <td>6</td>\n",
              "      <td>2021\\n</td>\n",
              "    </tr>\n",
              "    <tr>\n",
              "      <th>247</th>\n",
              "      <td>Â Falkland Islands (BOT)\\n</td>\n",
              "      <td>3,764</td>\n",
              "      <td>12,173</td>\n",
              "      <td>4,700</td>\n",
              "      <td>0.3</td>\n",
              "      <td>0.8</td>\n",
              "      <td>2021\\n</td>\n",
              "    </tr>\n",
              "    <tr>\n",
              "      <th>248</th>\n",
              "      <td>Â Svalbard and Jan Mayen (Norway)\\n</td>\n",
              "      <td>2,939</td>\n",
              "      <td>62,422</td>\n",
              "      <td>24,101.13</td>\n",
              "      <td>0.05</td>\n",
              "      <td>0.12</td>\n",
              "      <td>[34] 1 Sep 2012\\n</td>\n",
              "    </tr>\n",
              "    <tr>\n",
              "      <th>249</th>\n",
              "      <td>Â Greenland (Denmark)\\n</td>\n",
              "      <td>56,243</td>\n",
              "      <td>2,166,086</td>\n",
              "      <td>836,325.8</td>\n",
              "      <td>0.03</td>\n",
              "      <td>0.07</td>\n",
              "      <td>2021\\n</td>\n",
              "    </tr>\n",
              "  </tbody>\n",
              "</table>\n",
              "<p>250 rows × 7 columns</p>\n",
              "</div>\n",
              "      <button class=\"colab-df-convert\" onclick=\"convertToInteractive('df-bc74f25d-59fd-43cb-94cb-4b1393db9c33')\"\n",
              "              title=\"Convert this dataframe to an interactive table.\"\n",
              "              style=\"display:none;\">\n",
              "        \n",
              "  <svg xmlns=\"http://www.w3.org/2000/svg\" height=\"24px\"viewBox=\"0 0 24 24\"\n",
              "       width=\"24px\">\n",
              "    <path d=\"M0 0h24v24H0V0z\" fill=\"none\"/>\n",
              "    <path d=\"M18.56 5.44l.94 2.06.94-2.06 2.06-.94-2.06-.94-.94-2.06-.94 2.06-2.06.94zm-11 1L8.5 8.5l.94-2.06 2.06-.94-2.06-.94L8.5 2.5l-.94 2.06-2.06.94zm10 10l.94 2.06.94-2.06 2.06-.94-2.06-.94-.94-2.06-.94 2.06-2.06.94z\"/><path d=\"M17.41 7.96l-1.37-1.37c-.4-.4-.92-.59-1.43-.59-.52 0-1.04.2-1.43.59L10.3 9.45l-7.72 7.72c-.78.78-.78 2.05 0 2.83L4 21.41c.39.39.9.59 1.41.59.51 0 1.02-.2 1.41-.59l7.78-7.78 2.81-2.81c.8-.78.8-2.07 0-2.86zM5.41 20L4 18.59l7.72-7.72 1.47 1.35L5.41 20z\"/>\n",
              "  </svg>\n",
              "      </button>\n",
              "      \n",
              "  <style>\n",
              "    .colab-df-container {\n",
              "      display:flex;\n",
              "      flex-wrap:wrap;\n",
              "      gap: 12px;\n",
              "    }\n",
              "\n",
              "    .colab-df-convert {\n",
              "      background-color: #E8F0FE;\n",
              "      border: none;\n",
              "      border-radius: 50%;\n",
              "      cursor: pointer;\n",
              "      display: none;\n",
              "      fill: #1967D2;\n",
              "      height: 32px;\n",
              "      padding: 0 0 0 0;\n",
              "      width: 32px;\n",
              "    }\n",
              "\n",
              "    .colab-df-convert:hover {\n",
              "      background-color: #E2EBFA;\n",
              "      box-shadow: 0px 1px 2px rgba(60, 64, 67, 0.3), 0px 1px 3px 1px rgba(60, 64, 67, 0.15);\n",
              "      fill: #174EA6;\n",
              "    }\n",
              "\n",
              "    [theme=dark] .colab-df-convert {\n",
              "      background-color: #3B4455;\n",
              "      fill: #D2E3FC;\n",
              "    }\n",
              "\n",
              "    [theme=dark] .colab-df-convert:hover {\n",
              "      background-color: #434B5C;\n",
              "      box-shadow: 0px 1px 3px 1px rgba(0, 0, 0, 0.15);\n",
              "      filter: drop-shadow(0px 1px 2px rgba(0, 0, 0, 0.3));\n",
              "      fill: #FFFFFF;\n",
              "    }\n",
              "  </style>\n",
              "\n",
              "      <script>\n",
              "        const buttonEl =\n",
              "          document.querySelector('#df-bc74f25d-59fd-43cb-94cb-4b1393db9c33 button.colab-df-convert');\n",
              "        buttonEl.style.display =\n",
              "          google.colab.kernel.accessAllowed ? 'block' : 'none';\n",
              "\n",
              "        async function convertToInteractive(key) {\n",
              "          const element = document.querySelector('#df-bc74f25d-59fd-43cb-94cb-4b1393db9c33');\n",
              "          const dataTable =\n",
              "            await google.colab.kernel.invokeFunction('convertToInteractive',\n",
              "                                                     [key], {});\n",
              "          if (!dataTable) return;\n",
              "\n",
              "          const docLinkHtml = 'Like what you see? Visit the ' +\n",
              "            '<a target=\"_blank\" href=https://colab.research.google.com/notebooks/data_table.ipynb>data table notebook</a>'\n",
              "            + ' to learn more about interactive tables.';\n",
              "          element.innerHTML = '';\n",
              "          dataTable['output_type'] = 'display_data';\n",
              "          await google.colab.output.renderOutput(dataTable, element);\n",
              "          const docLink = document.createElement('div');\n",
              "          docLink.innerHTML = docLinkHtml;\n",
              "          element.appendChild(docLink);\n",
              "        }\n",
              "      </script>\n",
              "    </div>\n",
              "  </div>\n",
              "  "
            ]
          },
          "metadata": {},
          "execution_count": 76
        }
      ]
    },
    {
      "cell_type": "code",
      "source": [
        "df.drop(['d1','d2','d3'],axis=1,inplace=True)"
      ],
      "metadata": {
        "id": "9_Ej4oLn51bO"
      },
      "execution_count": 77,
      "outputs": []
    },
    {
      "cell_type": "code",
      "source": [
        "df['Country name']=df['Country name'].str.replace('\\n','')"
      ],
      "metadata": {
        "id": "3e1H5Cmp6V3g"
      },
      "execution_count": 82,
      "outputs": []
    },
    {
      "cell_type": "code",
      "source": [
        "indexWorld1 = df[(df['Country name'] == 'Â World (excluding Antarctica)')].index\n",
        "df.drop(indexWorld1, inplace=True)\n",
        "indexWorld2 = df[(df['Country name'] == 'Â World (all land)')].index\n",
        "df.drop(indexWorld2, inplace=True)"
      ],
      "metadata": {
        "id": "sB-BFzyb6h62"
      },
      "execution_count": 88,
      "outputs": []
    },
    {
      "cell_type": "code",
      "source": [
        "df['Area (km^2)']=df['Area (km^2)'].str.replace(\",\",\"\")\n",
        "df['Area (mi^2)']=df['Area (mi^2)'].str.replace(\",\",\"\")\n",
        "df['Population']=df['Population'].str.replace(\",\",\"\")"
      ],
      "metadata": {
        "id": "MkYI3sT-7KxO"
      },
      "execution_count": 90,
      "outputs": []
    },
    {
      "cell_type": "code",
      "source": [],
      "metadata": {
        "colab": {
          "base_uri": "https://localhost:8080/",
          "height": 424
        },
        "id": "c41r-SJ3I1Bb",
        "outputId": "5575f7c8-4a76-406c-942a-cf8a3c18f538"
      },
      "execution_count": 89,
      "outputs": [
        {
          "output_type": "execute_result",
          "data": {
            "text/plain": [
              "                          Country name Area (km^2) Area (mi^2) Population\n",
              "0                      Â Macau (China)     686,607          33         13\n",
              "1                             Â Monaco      36,686           2          1\n",
              "2                          Â Singapore   5,453,600         716        276\n",
              "3                  Â Hong Kong (China)   7,494,578       1,104        426\n",
              "4                    Â Gibraltar (BOT)      32,669           6          2\n",
              "..                                 ...         ...         ...        ...\n",
              "245                         Â Mongolia   3,347,782   1,564,116    603,905\n",
              "246           Western Sahara [note 14]     565,581     266,000    102,703\n",
              "247           Â Falkland Islands (BOT)       3,764      12,173      4,700\n",
              "248  Â Svalbard and Jan Mayen (Norway)       2,939      62,422  24,101.13\n",
              "249              Â Greenland (Denmark)      56,243   2,166,086  836,325.8\n",
              "\n",
              "[248 rows x 4 columns]"
            ],
            "text/html": [
              "\n",
              "  <div id=\"df-4963d509-5d82-4a00-86d1-c68f748b27d7\">\n",
              "    <div class=\"colab-df-container\">\n",
              "      <div>\n",
              "<style scoped>\n",
              "    .dataframe tbody tr th:only-of-type {\n",
              "        vertical-align: middle;\n",
              "    }\n",
              "\n",
              "    .dataframe tbody tr th {\n",
              "        vertical-align: top;\n",
              "    }\n",
              "\n",
              "    .dataframe thead th {\n",
              "        text-align: right;\n",
              "    }\n",
              "</style>\n",
              "<table border=\"1\" class=\"dataframe\">\n",
              "  <thead>\n",
              "    <tr style=\"text-align: right;\">\n",
              "      <th></th>\n",
              "      <th>Country name</th>\n",
              "      <th>Area (km^2)</th>\n",
              "      <th>Area (mi^2)</th>\n",
              "      <th>Population</th>\n",
              "    </tr>\n",
              "  </thead>\n",
              "  <tbody>\n",
              "    <tr>\n",
              "      <th>0</th>\n",
              "      <td>Â Macau (China)</td>\n",
              "      <td>686,607</td>\n",
              "      <td>33</td>\n",
              "      <td>13</td>\n",
              "    </tr>\n",
              "    <tr>\n",
              "      <th>1</th>\n",
              "      <td>Â Monaco</td>\n",
              "      <td>36,686</td>\n",
              "      <td>2</td>\n",
              "      <td>1</td>\n",
              "    </tr>\n",
              "    <tr>\n",
              "      <th>2</th>\n",
              "      <td>Â Singapore</td>\n",
              "      <td>5,453,600</td>\n",
              "      <td>716</td>\n",
              "      <td>276</td>\n",
              "    </tr>\n",
              "    <tr>\n",
              "      <th>3</th>\n",
              "      <td>Â Hong Kong (China)</td>\n",
              "      <td>7,494,578</td>\n",
              "      <td>1,104</td>\n",
              "      <td>426</td>\n",
              "    </tr>\n",
              "    <tr>\n",
              "      <th>4</th>\n",
              "      <td>Â Gibraltar (BOT)</td>\n",
              "      <td>32,669</td>\n",
              "      <td>6</td>\n",
              "      <td>2</td>\n",
              "    </tr>\n",
              "    <tr>\n",
              "      <th>...</th>\n",
              "      <td>...</td>\n",
              "      <td>...</td>\n",
              "      <td>...</td>\n",
              "      <td>...</td>\n",
              "    </tr>\n",
              "    <tr>\n",
              "      <th>245</th>\n",
              "      <td>Â Mongolia</td>\n",
              "      <td>3,347,782</td>\n",
              "      <td>1,564,116</td>\n",
              "      <td>603,905</td>\n",
              "    </tr>\n",
              "    <tr>\n",
              "      <th>246</th>\n",
              "      <td>Western Sahara [note 14]</td>\n",
              "      <td>565,581</td>\n",
              "      <td>266,000</td>\n",
              "      <td>102,703</td>\n",
              "    </tr>\n",
              "    <tr>\n",
              "      <th>247</th>\n",
              "      <td>Â Falkland Islands (BOT)</td>\n",
              "      <td>3,764</td>\n",
              "      <td>12,173</td>\n",
              "      <td>4,700</td>\n",
              "    </tr>\n",
              "    <tr>\n",
              "      <th>248</th>\n",
              "      <td>Â Svalbard and Jan Mayen (Norway)</td>\n",
              "      <td>2,939</td>\n",
              "      <td>62,422</td>\n",
              "      <td>24,101.13</td>\n",
              "    </tr>\n",
              "    <tr>\n",
              "      <th>249</th>\n",
              "      <td>Â Greenland (Denmark)</td>\n",
              "      <td>56,243</td>\n",
              "      <td>2,166,086</td>\n",
              "      <td>836,325.8</td>\n",
              "    </tr>\n",
              "  </tbody>\n",
              "</table>\n",
              "<p>248 rows × 4 columns</p>\n",
              "</div>\n",
              "      <button class=\"colab-df-convert\" onclick=\"convertToInteractive('df-4963d509-5d82-4a00-86d1-c68f748b27d7')\"\n",
              "              title=\"Convert this dataframe to an interactive table.\"\n",
              "              style=\"display:none;\">\n",
              "        \n",
              "  <svg xmlns=\"http://www.w3.org/2000/svg\" height=\"24px\"viewBox=\"0 0 24 24\"\n",
              "       width=\"24px\">\n",
              "    <path d=\"M0 0h24v24H0V0z\" fill=\"none\"/>\n",
              "    <path d=\"M18.56 5.44l.94 2.06.94-2.06 2.06-.94-2.06-.94-.94-2.06-.94 2.06-2.06.94zm-11 1L8.5 8.5l.94-2.06 2.06-.94-2.06-.94L8.5 2.5l-.94 2.06-2.06.94zm10 10l.94 2.06.94-2.06 2.06-.94-2.06-.94-.94-2.06-.94 2.06-2.06.94z\"/><path d=\"M17.41 7.96l-1.37-1.37c-.4-.4-.92-.59-1.43-.59-.52 0-1.04.2-1.43.59L10.3 9.45l-7.72 7.72c-.78.78-.78 2.05 0 2.83L4 21.41c.39.39.9.59 1.41.59.51 0 1.02-.2 1.41-.59l7.78-7.78 2.81-2.81c.8-.78.8-2.07 0-2.86zM5.41 20L4 18.59l7.72-7.72 1.47 1.35L5.41 20z\"/>\n",
              "  </svg>\n",
              "      </button>\n",
              "      \n",
              "  <style>\n",
              "    .colab-df-container {\n",
              "      display:flex;\n",
              "      flex-wrap:wrap;\n",
              "      gap: 12px;\n",
              "    }\n",
              "\n",
              "    .colab-df-convert {\n",
              "      background-color: #E8F0FE;\n",
              "      border: none;\n",
              "      border-radius: 50%;\n",
              "      cursor: pointer;\n",
              "      display: none;\n",
              "      fill: #1967D2;\n",
              "      height: 32px;\n",
              "      padding: 0 0 0 0;\n",
              "      width: 32px;\n",
              "    }\n",
              "\n",
              "    .colab-df-convert:hover {\n",
              "      background-color: #E2EBFA;\n",
              "      box-shadow: 0px 1px 2px rgba(60, 64, 67, 0.3), 0px 1px 3px 1px rgba(60, 64, 67, 0.15);\n",
              "      fill: #174EA6;\n",
              "    }\n",
              "\n",
              "    [theme=dark] .colab-df-convert {\n",
              "      background-color: #3B4455;\n",
              "      fill: #D2E3FC;\n",
              "    }\n",
              "\n",
              "    [theme=dark] .colab-df-convert:hover {\n",
              "      background-color: #434B5C;\n",
              "      box-shadow: 0px 1px 3px 1px rgba(0, 0, 0, 0.15);\n",
              "      filter: drop-shadow(0px 1px 2px rgba(0, 0, 0, 0.3));\n",
              "      fill: #FFFFFF;\n",
              "    }\n",
              "  </style>\n",
              "\n",
              "      <script>\n",
              "        const buttonEl =\n",
              "          document.querySelector('#df-4963d509-5d82-4a00-86d1-c68f748b27d7 button.colab-df-convert');\n",
              "        buttonEl.style.display =\n",
              "          google.colab.kernel.accessAllowed ? 'block' : 'none';\n",
              "\n",
              "        async function convertToInteractive(key) {\n",
              "          const element = document.querySelector('#df-4963d509-5d82-4a00-86d1-c68f748b27d7');\n",
              "          const dataTable =\n",
              "            await google.colab.kernel.invokeFunction('convertToInteractive',\n",
              "                                                     [key], {});\n",
              "          if (!dataTable) return;\n",
              "\n",
              "          const docLinkHtml = 'Like what you see? Visit the ' +\n",
              "            '<a target=\"_blank\" href=https://colab.research.google.com/notebooks/data_table.ipynb>data table notebook</a>'\n",
              "            + ' to learn more about interactive tables.';\n",
              "          element.innerHTML = '';\n",
              "          dataTable['output_type'] = 'display_data';\n",
              "          await google.colab.output.renderOutput(dataTable, element);\n",
              "          const docLink = document.createElement('div');\n",
              "          docLink.innerHTML = docLinkHtml;\n",
              "          element.appendChild(docLink);\n",
              "        }\n",
              "      </script>\n",
              "    </div>\n",
              "  </div>\n",
              "  "
            ]
          },
          "metadata": {},
          "execution_count": 89
        }
      ]
    },
    {
      "cell_type": "code",
      "source": [
        "df['Area (km^2)'] = pd.to_numeric(df['Area (km^2)'])\n",
        "df['Area (mi^2)'] = pd.to_numeric(df['Area (mi^2)'])\n",
        "df['Population'] = pd.to_numeric(df['Population'])"
      ],
      "metadata": {
        "id": "W2PYz5QaI2Hg"
      },
      "execution_count": 91,
      "outputs": []
    },
    {
      "cell_type": "code",
      "source": [
        "df.dtypes\n"
      ],
      "metadata": {
        "id": "fct5sjYoJvbl",
        "colab": {
          "base_uri": "https://localhost:8080/"
        },
        "outputId": "13a7aaf9-30a2-4849-9c10-845cc2c92c1a"
      },
      "execution_count": 92,
      "outputs": [
        {
          "output_type": "execute_result",
          "data": {
            "text/plain": [
              "Country name     object\n",
              "Area (km^2)       int64\n",
              "Area (mi^2)       int64\n",
              "Population      float64\n",
              "dtype: object"
            ]
          },
          "metadata": {},
          "execution_count": 92
        }
      ]
    },
    {
      "cell_type": "code",
      "source": [
        "df.describe()\n"
      ],
      "metadata": {
        "id": "4rqa6T01M2tS"
      },
      "execution_count": null,
      "outputs": []
    },
    {
      "cell_type": "code",
      "source": [
        "df.info()\n",
        "df['Area (km^2)'].mean()\n",
        "df['Area (mi^2)'].mean()"
      ],
      "metadata": {
        "colab": {
          "base_uri": "https://localhost:8080/"
        },
        "id": "4JXI7SBFM_5i",
        "outputId": "798d38ec-99a2-418b-d98b-9192347ab698"
      },
      "execution_count": 93,
      "outputs": [
        {
          "output_type": "stream",
          "name": "stdout",
          "text": [
            "<class 'pandas.core.frame.DataFrame'>\n",
            "Int64Index: 248 entries, 0 to 249\n",
            "Data columns (total 4 columns):\n",
            " #   Column        Non-Null Count  Dtype  \n",
            "---  ------        --------------  -----  \n",
            " 0   Country name  248 non-null    object \n",
            " 1   Area (km^2)   248 non-null    int64  \n",
            " 2   Area (mi^2)   248 non-null    int64  \n",
            " 3   Population    248 non-null    float64\n",
            "dtypes: float64(1), int64(2), object(1)\n",
            "memory usage: 9.7+ KB\n"
          ]
        },
        {
          "output_type": "execute_result",
          "data": {
            "text/plain": [
              "545636.375"
            ]
          },
          "metadata": {},
          "execution_count": 93
        }
      ]
    },
    {
      "cell_type": "code",
      "source": [
        "df['Population'].mean()\n"
      ],
      "metadata": {
        "colab": {
          "base_uri": "https://localhost:8080/"
        },
        "id": "2DeUf9PZNSbZ",
        "outputId": "482a5377-fab7-4320-9f52-b72b9f27ea4f"
      },
      "execution_count": 94,
      "outputs": [
        {
          "output_type": "execute_result",
          "data": {
            "text/plain": [
              "210670.1852016129"
            ]
          },
          "metadata": {},
          "execution_count": 94
        }
      ]
    },
    {
      "cell_type": "code",
      "source": [
        "data =df\n",
        "print(df.corr())\n",
        "corr = data.corr()\n",
        "ax = sns.heatmap(\n",
        "    corr, \n",
        "    vmin=-1, vmax=1, center=0,\n",
        "    cmap=sns.diverging_palette(20, 220, n=200),\n",
        "    square=True\n",
        ")\n",
        "ax.set_xticklabels(\n",
        "    ax.get_xticklabels(),\n",
        "    rotation=45,\n",
        "    horizontalalignment='right'\n",
        ");\n"
      ],
      "metadata": {
        "colab": {
          "base_uri": "https://localhost:8080/",
          "height": 381
        },
        "id": "_PowTCKVNWjp",
        "outputId": "2167bf32-650f-49ba-bbc6-c62c7f648563"
      },
      "execution_count": 95,
      "outputs": [
        {
          "output_type": "stream",
          "name": "stdout",
          "text": [
            "             Area (km^2)  Area (mi^2)  Population\n",
            "Area (km^2)     1.000000     0.459275    0.459275\n",
            "Area (mi^2)     0.459275     1.000000    1.000000\n",
            "Population      0.459275     1.000000    1.000000\n"
          ]
        },
        {
          "output_type": "display_data",
          "data": {
            "text/plain": [
              "<Figure size 432x288 with 2 Axes>"
            ],
            "image/png": "[encoded data removed]"
          },
          "metadata": {
            "needs_background": "light"
          }
        }
      ]
    },
    {
      "cell_type": "code",
      "source": [
        "df1=pd.DataFrame()\n",
        "df1['Population']=df['Population']\n",
        "df1['Area (km^2)']=df['Area (km^2)']\n",
        "sns.scatterplot(x=\"Population\", y=\"Area (km^2)\", data=df1)"
      ],
      "metadata": {
        "colab": {
          "base_uri": "https://localhost:8080/",
          "height": 307
        },
        "id": "kmqzClqjNcna",
        "outputId": "e4e5aa12-9c29-47ca-8861-19c92379368c"
      },
      "execution_count": 96,
      "outputs": [
        {
          "output_type": "execute_result",
          "data": {
            "text/plain": [
              "<matplotlib.axes._subplots.AxesSubplot at 0x7fdcdd9b3450>"
            ]
          },
          "metadata": {},
          "execution_count": 96
        },
        {
          "output_type": "display_data",
          "data": {
            "text/plain": [
              "<Figure size 432x288 with 1 Axes>"
            ],
            "image/png": "[encoded data removed]"
          },
          "metadata": {
            "needs_background": "light"
          }
        }
      ]
    }
  ]
}